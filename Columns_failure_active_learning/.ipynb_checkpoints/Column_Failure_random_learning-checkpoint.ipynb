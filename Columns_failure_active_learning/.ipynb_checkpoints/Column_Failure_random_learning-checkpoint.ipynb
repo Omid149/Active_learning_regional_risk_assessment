{
 "cells": [
  {
   "cell_type": "code",
   "execution_count": 1,
   "metadata": {},
   "outputs": [],
   "source": [
    "import numpy as np\n",
    "import shap\n",
    "import xgboost\n",
    "import pandas as pd\n",
    "import numpy as np\n",
    "from sklearn.model_selection import train_test_split\n",
    "%matplotlib inline\n",
    "import matplotlib as mpl\n",
    "import matplotlib.pyplot as plt\n",
    "\n",
    "# Set our RNG seed for reproducibility.\n",
    "RANDOM_STATE_SEED = 123\n",
    "np.random.seed(RANDOM_STATE_SEED)"
   ]
  },
  {
   "cell_type": "code",
   "execution_count": 2,
   "metadata": {},
   "outputs": [
    {
     "data": {
      "text/html": [
       "<div>\n",
       "<style scoped>\n",
       "    .dataframe tbody tr th:only-of-type {\n",
       "        vertical-align: middle;\n",
       "    }\n",
       "\n",
       "    .dataframe tbody tr th {\n",
       "        vertical-align: top;\n",
       "    }\n",
       "\n",
       "    .dataframe thead th {\n",
       "        text-align: right;\n",
       "    }\n",
       "</style>\n",
       "<table border=\"1\" class=\"dataframe\">\n",
       "  <thead>\n",
       "    <tr style=\"text-align: right;\">\n",
       "      <th></th>\n",
       "      <th>Reference</th>\n",
       "      <th>Specimen</th>\n",
       "      <th>Failure</th>\n",
       "      <th>a/D</th>\n",
       "      <th>ALF</th>\n",
       "      <th>ρlfy/fc</th>\n",
       "      <th>ρvfyv/ft</th>\n",
       "      <th>Unnamed: 7</th>\n",
       "      <th>Unnamed: 8</th>\n",
       "      <th>Unnamed: 9</th>\n",
       "    </tr>\n",
       "  </thead>\n",
       "  <tbody>\n",
       "    <tr>\n",
       "      <th>0</th>\n",
       "      <td>Davey 1975</td>\n",
       "      <td>No. 1</td>\n",
       "      <td>1</td>\n",
       "      <td>5.50</td>\n",
       "      <td>0.055265</td>\n",
       "      <td>0.288491</td>\n",
       "      <td>0.368768</td>\n",
       "      <td>NaN</td>\n",
       "      <td>NaN</td>\n",
       "      <td>NaN</td>\n",
       "    </tr>\n",
       "    <tr>\n",
       "      <th>1</th>\n",
       "      <td>NaN</td>\n",
       "      <td>No. 2</td>\n",
       "      <td>1</td>\n",
       "      <td>3.50</td>\n",
       "      <td>0.052724</td>\n",
       "      <td>0.273751</td>\n",
       "      <td>0.360191</td>\n",
       "      <td>NaN</td>\n",
       "      <td>Note</td>\n",
       "      <td>Test configuration: C = cantilever, DC = doubl...</td>\n",
       "    </tr>\n",
       "    <tr>\n",
       "      <th>2</th>\n",
       "      <td>NaN</td>\n",
       "      <td>No. 3</td>\n",
       "      <td>1</td>\n",
       "      <td>6.50</td>\n",
       "      <td>0.054284</td>\n",
       "      <td>0.283370</td>\n",
       "      <td>0.400623</td>\n",
       "      <td>NaN</td>\n",
       "      <td>NaN</td>\n",
       "      <td>NaN</td>\n",
       "    </tr>\n",
       "    <tr>\n",
       "      <th>3</th>\n",
       "      <td>Munro et al. 1976</td>\n",
       "      <td>No. 1</td>\n",
       "      <td>1</td>\n",
       "      <td>5.46</td>\n",
       "      <td>0.003187</td>\n",
       "      <td>0.195795</td>\n",
       "      <td>1.213041</td>\n",
       "      <td>NaN</td>\n",
       "      <td>NaN</td>\n",
       "      <td># flexure columns = 221 (represented as 1 in F...</td>\n",
       "    </tr>\n",
       "    <tr>\n",
       "      <th>4</th>\n",
       "      <td>Ng et al. 1978</td>\n",
       "      <td>No. 2</td>\n",
       "      <td>1</td>\n",
       "      <td>5.36</td>\n",
       "      <td>0.011396</td>\n",
       "      <td>0.222759</td>\n",
       "      <td>1.289995</td>\n",
       "      <td>NaN</td>\n",
       "      <td>NaN</td>\n",
       "      <td># flexure-shear columns = 53 (FS - 2)</td>\n",
       "    </tr>\n",
       "  </tbody>\n",
       "</table>\n",
       "</div>"
      ],
      "text/plain": [
       "           Reference Specimen  Failure   a/D       ALF   ρlfy/fc  ρvfyv/ft  \\\n",
       "0         Davey 1975    No. 1        1  5.50  0.055265  0.288491  0.368768   \n",
       "1                NaN    No. 2        1  3.50  0.052724  0.273751  0.360191   \n",
       "2                NaN    No. 3        1  6.50  0.054284  0.283370  0.400623   \n",
       "3  Munro et al. 1976    No. 1        1  5.46  0.003187  0.195795  1.213041   \n",
       "4     Ng et al. 1978    No. 2        1  5.36  0.011396  0.222759  1.289995   \n",
       "\n",
       "   Unnamed: 7 Unnamed: 8                                         Unnamed: 9  \n",
       "0         NaN        NaN                                                NaN  \n",
       "1         NaN       Note  Test configuration: C = cantilever, DC = doubl...  \n",
       "2         NaN        NaN                                                NaN  \n",
       "3         NaN        NaN  # flexure columns = 221 (represented as 1 in F...  \n",
       "4         NaN        NaN              # flexure-shear columns = 53 (FS - 2)  "
      ]
     },
     "execution_count": 2,
     "metadata": {},
     "output_type": "execute_result"
    }
   ],
   "source": [
    "data1 = pd.read_excel('Column_database.xlsx', sheet_name='ColumnDataBase')\n",
    "data1.head()"
   ]
  },
  {
   "cell_type": "code",
   "execution_count": 3,
   "metadata": {},
   "outputs": [
    {
     "data": {
      "text/html": [
       "<div>\n",
       "<style scoped>\n",
       "    .dataframe tbody tr th:only-of-type {\n",
       "        vertical-align: middle;\n",
       "    }\n",
       "\n",
       "    .dataframe tbody tr th {\n",
       "        vertical-align: top;\n",
       "    }\n",
       "\n",
       "    .dataframe thead th {\n",
       "        text-align: right;\n",
       "    }\n",
       "</style>\n",
       "<table border=\"1\" class=\"dataframe\">\n",
       "  <thead>\n",
       "    <tr style=\"text-align: right;\">\n",
       "      <th></th>\n",
       "      <th>Failure</th>\n",
       "      <th>a/D</th>\n",
       "      <th>ALF</th>\n",
       "      <th>ρlfy/fc</th>\n",
       "      <th>ρvfyv/ft</th>\n",
       "    </tr>\n",
       "  </thead>\n",
       "  <tbody>\n",
       "    <tr>\n",
       "      <th>0</th>\n",
       "      <td>1</td>\n",
       "      <td>5.50</td>\n",
       "      <td>0.055265</td>\n",
       "      <td>0.288491</td>\n",
       "      <td>0.368768</td>\n",
       "    </tr>\n",
       "    <tr>\n",
       "      <th>1</th>\n",
       "      <td>1</td>\n",
       "      <td>3.50</td>\n",
       "      <td>0.052724</td>\n",
       "      <td>0.273751</td>\n",
       "      <td>0.360191</td>\n",
       "    </tr>\n",
       "    <tr>\n",
       "      <th>2</th>\n",
       "      <td>1</td>\n",
       "      <td>6.50</td>\n",
       "      <td>0.054284</td>\n",
       "      <td>0.283370</td>\n",
       "      <td>0.400623</td>\n",
       "    </tr>\n",
       "    <tr>\n",
       "      <th>3</th>\n",
       "      <td>1</td>\n",
       "      <td>5.46</td>\n",
       "      <td>0.003187</td>\n",
       "      <td>0.195795</td>\n",
       "      <td>1.213041</td>\n",
       "    </tr>\n",
       "    <tr>\n",
       "      <th>4</th>\n",
       "      <td>1</td>\n",
       "      <td>5.36</td>\n",
       "      <td>0.011396</td>\n",
       "      <td>0.222759</td>\n",
       "      <td>1.289995</td>\n",
       "    </tr>\n",
       "  </tbody>\n",
       "</table>\n",
       "</div>"
      ],
      "text/plain": [
       "   Failure   a/D       ALF   ρlfy/fc  ρvfyv/ft\n",
       "0        1  5.50  0.055265  0.288491  0.368768\n",
       "1        1  3.50  0.052724  0.273751  0.360191\n",
       "2        1  6.50  0.054284  0.283370  0.400623\n",
       "3        1  5.46  0.003187  0.195795  1.213041\n",
       "4        1  5.36  0.011396  0.222759  1.289995"
      ]
     },
     "execution_count": 3,
     "metadata": {},
     "output_type": "execute_result"
    }
   ],
   "source": [
    "data=data1.loc[:, 'Failure':'ρvfyv/ft']\n",
    "data.head()"
   ]
  },
  {
   "cell_type": "code",
   "execution_count": 4,
   "metadata": {},
   "outputs": [],
   "source": [
    "# Generate X and y data\n",
    "X = data.loc[:, data.columns != 'Failure'].to_numpy()\n",
    "y =data['Failure'].to_numpy()\n",
    "#X.head()"
   ]
  },
  {
   "cell_type": "code",
   "execution_count": 5,
   "metadata": {},
   "outputs": [],
   "source": [
    "# Split the data into training and test\n",
    "X_train, X_test, y_train, y_test = train_test_split(X, y, test_size=0.3, random_state=0)\n",
    "\n",
    "from sklearn.preprocessing import MinMaxScaler\n",
    "scaler = MinMaxScaler()\n",
    "X_train = scaler.fit_transform(X_train)\n",
    "X_test = scaler.transform(X_test)"
   ]
  },
  {
   "cell_type": "code",
   "execution_count": 6,
   "metadata": {},
   "outputs": [
    {
     "data": {
      "text/plain": [
       "(95, 221)"
      ]
     },
     "execution_count": 6,
     "metadata": {},
     "output_type": "execute_result"
    }
   ],
   "source": [
    "len(X_test), len(X_train)"
   ]
  },
  {
   "cell_type": "code",
   "execution_count": 7,
   "metadata": {},
   "outputs": [],
   "source": [
    "# Isolate our examples for our columns data that have labels\n",
    "n_labeled_examples = X_train.shape[0]\n",
    "size = 10 #Intial Samples\n",
    "training_indices = np.random.randint(low=0, high=n_labeled_examples + 1, size =10)"
   ]
  },
  {
   "cell_type": "code",
   "execution_count": 8,
   "metadata": {},
   "outputs": [
    {
     "data": {
      "text/plain": [
       "array([109, 126,  66, 220,  98,  17,  83, 106, 123,  57])"
      ]
     },
     "execution_count": 8,
     "metadata": {},
     "output_type": "execute_result"
    }
   ],
   "source": [
    "training_indices"
   ]
  },
  {
   "cell_type": "code",
   "execution_count": 9,
   "metadata": {},
   "outputs": [],
   "source": [
    "X_train_new = X_train[training_indices]\n",
    "y_train_new = y_train[training_indices]"
   ]
  },
  {
   "cell_type": "code",
   "execution_count": 10,
   "metadata": {},
   "outputs": [],
   "source": [
    "# Isolate the non-training examples we'll be querying.\n",
    "X_pool = np.delete(X_train, training_indices, axis=0)\n",
    "y_pool = np.delete(y_train, training_indices, axis=0)"
   ]
  },
  {
   "cell_type": "code",
   "execution_count": 11,
   "metadata": {},
   "outputs": [],
   "source": [
    "from xgboost import XGBClassifier\n",
    "from modAL.models import ActiveLearner\n",
    "\n",
    "# Specify the core estimator along with it's active learning model.\n",
    "XGB = XGBClassifier()\n",
    "learner = ActiveLearner(estimator=XGB, X_training=X_train_new, y_training=y_train_new)"
   ]
  },
  {
   "cell_type": "code",
   "execution_count": 12,
   "metadata": {},
   "outputs": [],
   "source": [
    "# Isolate the data we'll need for plotting.\n",
    "predictions = learner.predict(X_train)\n",
    "is_correct = (predictions == y_train)"
   ]
  },
  {
   "cell_type": "code",
   "execution_count": 13,
   "metadata": {},
   "outputs": [
    {
     "data": {
      "text/plain": [
       "0.6968325791855203"
      ]
     },
     "execution_count": 13,
     "metadata": {},
     "output_type": "execute_result"
    }
   ],
   "source": [
    "learner.score(X_train, y_train)"
   ]
  },
  {
   "cell_type": "code",
   "execution_count": 14,
   "metadata": {},
   "outputs": [
    {
     "data": {
      "text/plain": [
       "dtype('int64')"
      ]
     },
     "execution_count": 14,
     "metadata": {},
     "output_type": "execute_result"
    }
   ],
   "source": [
    "y_train.dtype"
   ]
  },
  {
   "cell_type": "code",
   "execution_count": 15,
   "metadata": {},
   "outputs": [
    {
     "data": {
      "image/png": "[encoded data removed]",
      "text/plain": [
       "<Figure size 520x520 with 1 Axes>"
      ]
     },
     "metadata": {
      "needs_background": "light"
     },
     "output_type": "display_data"
    }
   ],
   "source": [
    "# Record our learner's score on the raw data.\n",
    "unqueried_score = learner.score(X_train, y_train)\n",
    "unqueried_score_test = learner.score(X_test, y_test)\n",
    "\n",
    "\n",
    "# Plot our classification results.\n",
    "fig, ax = plt.subplots(figsize=(4, 4), dpi=130)\n",
    "ax.scatter(x=X_train[is_correct][:,0],  y=X_train[is_correct][:,1],  c='g', marker='+', label='Correct',   alpha=8/10)\n",
    "ax.scatter(x=X_train[~is_correct][:,0], y=X_train[~is_correct][:,1], c='r', marker='x', label='Incorrect', alpha=8/10)\n",
    "ax.legend(loc='lower right')\n",
    "ax.set_title(\"ActiveLearner class predictions (Accuracy: {score:.3f})\".format(score=unqueried_score))\n",
    "plt.show()"
   ]
  },
  {
   "cell_type": "code",
   "execution_count": 16,
   "metadata": {},
   "outputs": [
    {
     "data": {
      "text/plain": [
       "(array([0], dtype=int64),\n",
       " array([[0.35459184, 0.28738835, 0.01211558, 0.33760417]]))"
      ]
     },
     "execution_count": 16,
     "metadata": {},
     "output_type": "execute_result"
    }
   ],
   "source": [
    "learner.query(X_pool)"
   ]
  },
  {
   "cell_type": "markdown",
   "metadata": {},
   "source": [
    "## Pool based Sampling"
   ]
  },
  {
   "cell_type": "markdown",
   "metadata": {},
   "source": [
    "Initially the model is trained with 10 random samples. Now we are passing querries one by one. In other words we are tuning the\n",
    "classifier based on 100 instances (N_QUERIES) that the model hasn't seen before"
   ]
  },
  {
   "cell_type": "code",
   "execution_count": 17,
   "metadata": {},
   "outputs": [
    {
     "name": "stdout",
     "output_type": "stream",
     "text": [
      "Accuracy after query 1: 0.6968\n",
      "Accuracy after query 2: 0.6968\n",
      "Accuracy after query 3: 0.6968\n",
      "Accuracy after query 4: 0.6968\n",
      "Accuracy after query 5: 0.6968\n",
      "Accuracy after query 6: 0.7466\n",
      "Accuracy after query 7: 0.7692\n",
      "Accuracy after query 8: 0.7873\n",
      "Accuracy after query 9: 0.7783\n",
      "Accuracy after query 10: 0.7873\n",
      "Accuracy after query 11: 0.8054\n",
      "Accuracy after query 12: 0.8190\n",
      "Accuracy after query 13: 0.8281\n",
      "Accuracy after query 14: 0.8281\n",
      "Accuracy after query 15: 0.8235\n",
      "Accuracy after query 16: 0.8100\n",
      "Accuracy after query 17: 0.8145\n",
      "Accuracy after query 18: 0.8235\n",
      "Accuracy after query 19: 0.8416\n",
      "Accuracy after query 20: 0.8371\n",
      "Accuracy after query 21: 0.8462\n",
      "Accuracy after query 22: 0.8462\n",
      "Accuracy after query 23: 0.8416\n",
      "Accuracy after query 24: 0.8416\n",
      "Accuracy after query 25: 0.8416\n",
      "Accuracy after query 26: 0.8462\n",
      "Accuracy after query 27: 0.8507\n",
      "Accuracy after query 28: 0.8507\n",
      "Accuracy after query 29: 0.8507\n",
      "Accuracy after query 30: 0.8597\n",
      "Accuracy after query 31: 0.8597\n",
      "Accuracy after query 32: 0.8597\n",
      "Accuracy after query 33: 0.8597\n",
      "Accuracy after query 34: 0.8643\n",
      "Accuracy after query 35: 0.8688\n",
      "Accuracy after query 36: 0.8688\n",
      "Accuracy after query 37: 0.8688\n",
      "Accuracy after query 38: 0.8733\n",
      "Accuracy after query 39: 0.8778\n",
      "Accuracy after query 40: 0.8778\n",
      "Accuracy after query 41: 0.8778\n",
      "Accuracy after query 42: 0.8778\n",
      "Accuracy after query 43: 0.8824\n",
      "Accuracy after query 44: 0.8824\n",
      "Accuracy after query 45: 0.8869\n",
      "Accuracy after query 46: 0.8959\n",
      "Accuracy after query 47: 0.8959\n",
      "Accuracy after query 48: 0.8959\n",
      "Accuracy after query 49: 0.9005\n",
      "Accuracy after query 50: 0.9005\n",
      "Accuracy after query 51: 0.9005\n",
      "Accuracy after query 52: 0.9050\n",
      "Accuracy after query 53: 0.9095\n",
      "Accuracy after query 54: 0.9140\n",
      "Accuracy after query 55: 0.9140\n",
      "Accuracy after query 56: 0.9140\n",
      "Accuracy after query 57: 0.9140\n",
      "Accuracy after query 58: 0.9140\n",
      "Accuracy after query 59: 0.9186\n",
      "Accuracy after query 60: 0.9186\n",
      "Accuracy after query 61: 0.9231\n",
      "Accuracy after query 62: 0.9231\n",
      "Accuracy after query 63: 0.9231\n",
      "Accuracy after query 64: 0.9231\n",
      "Accuracy after query 65: 0.9231\n",
      "Accuracy after query 66: 0.9502\n",
      "Accuracy after query 67: 0.9502\n",
      "Accuracy after query 68: 0.9548\n",
      "Accuracy after query 69: 0.9548\n",
      "Accuracy after query 70: 0.9593\n",
      "Accuracy after query 71: 0.9593\n",
      "Accuracy after query 72: 0.9593\n",
      "Accuracy after query 73: 0.9593\n",
      "Accuracy after query 74: 0.9593\n",
      "Accuracy after query 75: 0.9593\n",
      "Accuracy after query 76: 0.9593\n",
      "Accuracy after query 77: 0.9593\n",
      "Accuracy after query 78: 0.9593\n",
      "Accuracy after query 79: 0.9638\n",
      "Accuracy after query 80: 0.9638\n",
      "Accuracy after query 81: 0.9638\n",
      "Accuracy after query 82: 0.9638\n",
      "Accuracy after query 83: 0.9638\n",
      "Accuracy after query 84: 0.9638\n",
      "Accuracy after query 85: 0.9638\n",
      "Accuracy after query 86: 0.9638\n",
      "Accuracy after query 87: 0.9683\n",
      "Accuracy after query 88: 0.9683\n",
      "Accuracy after query 89: 0.9683\n",
      "Accuracy after query 90: 0.9683\n",
      "Accuracy after query 91: 0.9729\n",
      "Accuracy after query 92: 0.9729\n",
      "Accuracy after query 93: 0.9729\n",
      "Accuracy after query 94: 0.9729\n",
      "Accuracy after query 95: 0.9729\n",
      "Accuracy after query 96: 0.9774\n",
      "Accuracy after query 97: 0.9819\n",
      "Accuracy after query 98: 0.9819\n",
      "Accuracy after query 99: 0.9819\n",
      "Accuracy after query 100: 0.9819\n"
     ]
    }
   ],
   "source": [
    "#N_QUERIES = len(X_train)-size\n",
    "N_QUERIES = 100\n",
    "performance_history = [unqueried_score]\n",
    "performance_history_test = [unqueried_score_test]\n",
    "# Allow our model to query our unlabeled dataset for the most\n",
    "# informative points according to our query strategy (uncertainty sampling).\n",
    "for index in range(N_QUERIES):\n",
    "    \n",
    "    query_index, query_instance = learner.query(X_pool)\n",
    "\n",
    "    # Teach our ActiveLearner model the record it has requested.\n",
    "    X, y = X_pool[query_index].reshape(1, -1), y_pool[query_index].reshape(1, )\n",
    "    learner.teach(X=X, y=y)\n",
    "\n",
    "    # Remove the queried instance from the unlabeled pool.\n",
    "    X_pool, y_pool = np.delete(X_pool, query_index, axis=0), np.delete(y_pool, query_index)\n",
    "\n",
    "    # Calculate and report our model's accuracy on training data.\n",
    "    model_accuracy = learner.score(X_train, y_train)\n",
    "    print('Accuracy after query {n}: {acc:0.4f}'.format(n=index + 1, acc=model_accuracy))\n",
    "\n",
    "    # Calculate and report our model's accuracy on training data.\n",
    "    model_accuracy_test = learner.score(X_test, y_test)\n",
    "\n",
    "    # Save our model's performance for plotting.\n",
    "    performance_history.append(model_accuracy)\n",
    "    performance_history_test.append(model_accuracy_test)"
   ]
  },
  {
   "cell_type": "code",
   "execution_count": 18,
   "metadata": {},
   "outputs": [
    {
     "name": "stderr",
     "output_type": "stream",
     "text": [
      "The PostScript backend does not support transparency; partially transparent artists will be rendered opaque.\n",
      "The PostScript backend does not support transparency; partially transparent artists will be rendered opaque.\n"
     ]
    },
    {
     "data": {
      "image/png": "[encoded data removed]",
      "text/plain": [
       "<Figure size 780x390 with 1 Axes>"
      ]
     },
     "metadata": {
      "needs_background": "light"
     },
     "output_type": "display_data"
    }
   ],
   "source": [
    "# Plot our performance over time.\n",
    "fig, ax = plt.subplots(figsize=(6, 3), dpi=130)\n",
    "plt.rcParams[\"font.family\"] = \"Times New Roman\"\n",
    "plt.rcParams.update({'font.size': 12})\n",
    "\n",
    "ax.plot(performance_history)\n",
    "ax.scatter(range(len(performance_history)), performance_history, s=13)\n",
    "\n",
    "ax.plot(performance_history_test)\n",
    "\n",
    "\n",
    "\n",
    "ax.xaxis.set_major_locator(mpl.ticker.MaxNLocator(nbins=5, integer=True))\n",
    "ax.yaxis.set_major_locator(mpl.ticker.MaxNLocator(nbins=10))\n",
    "ax.yaxis.set_major_formatter(mpl.ticker.PercentFormatter(xmax=1))\n",
    "\n",
    "ax.set_ylim(bottom=0, top=1)\n",
    "ax.grid(True)\n",
    "\n",
    "ax.set_title('Incremental classification accuracy')\n",
    "ax.set_xlabel('Query iteration')\n",
    "ax.set_ylabel('Classification Accuracy')\n",
    "\n",
    "ax.legend(('Training data', 'Test data'),loc='lower right')\n",
    "\n",
    "plt.savefig('column_active_learning_pool_based_sampling.eps',format='eps', dpi=1000)\n",
    "plt.show()"
   ]
  },
  {
   "cell_type": "code",
   "execution_count": 19,
   "metadata": {},
   "outputs": [
    {
     "data": {
      "image/png": "[encoded data removed]",
      "text/plain": [
       "<Figure size 650x650 with 1 Axes>"
      ]
     },
     "metadata": {
      "needs_background": "light"
     },
     "output_type": "display_data"
    }
   ],
   "source": [
    "# Isolate the data we'll need for plotting.\n",
    "predictions = learner.predict(X_train)\n",
    "is_correct = (predictions == y_train)\n",
    "\n",
    "# Plot our updated classification results once we've trained our learner.\n",
    "fig, ax = plt.subplots(figsize=(5, 5), dpi=130)\n",
    "\n",
    "ax.scatter(x=X_train[is_correct][:,0],  y=X_train[is_correct][:,1],  c='g', marker='+', label='Correct',   alpha=8/10)\n",
    "ax.scatter(x=X_train[~is_correct][:,0], y=X_train[~is_correct][:,1], c='r', marker='x', label='Incorrect', alpha=8/10)\n",
    "\n",
    "ax.set_title('Classification accuracy after {n} queries: {final_acc:.3f}'.format(n=N_QUERIES, final_acc=performance_history[-1]))\n",
    "ax.legend(loc='lower right')\n",
    "\n",
    "plt.show()"
   ]
  },
  {
   "cell_type": "code",
   "execution_count": 20,
   "metadata": {},
   "outputs": [
    {
     "name": "stdout",
     "output_type": "stream",
     "text": [
      "[[153   1   0]\n",
      " [  2  34   0]\n",
      " [  1   0  30]]\n"
     ]
    }
   ],
   "source": [
    "y_pred_train = learner.predict(X_train)\n",
    "\n",
    "from sklearn.metrics import confusion_matrix\n",
    "confusion_matrix = confusion_matrix(y_train, y_pred_train)\n",
    "print(confusion_matrix)"
   ]
  },
  {
   "cell_type": "code",
   "execution_count": 21,
   "metadata": {},
   "outputs": [
    {
     "name": "stdout",
     "output_type": "stream",
     "text": [
      "Accuracy of RF classifier on test set: 0.83\n"
     ]
    }
   ],
   "source": [
    "# Check the performance on test set\n",
    "\n",
    "print('Accuracy of RF classifier on test set: {:.2f}'\n",
    "     .format(learner.score(X_test, y_test)))"
   ]
  },
  {
   "cell_type": "code",
   "execution_count": 22,
   "metadata": {},
   "outputs": [
    {
     "name": "stdout",
     "output_type": "stream",
     "text": [
      "[[62  4  1]\n",
      " [ 6  9  2]\n",
      " [ 1  2  8]]\n"
     ]
    }
   ],
   "source": [
    "y_pred_test = learner.predict(X_test)\n",
    "\n",
    "from sklearn.metrics import confusion_matrix\n",
    "confusion_matrix_test = confusion_matrix(y_test, y_pred_test)\n",
    "print(confusion_matrix_test)"
   ]
  },
  {
   "cell_type": "markdown",
   "metadata": {},
   "source": [
    "## Ranked batch mode sampling"
   ]
  },
  {
   "cell_type": "code",
   "execution_count": 23,
   "metadata": {},
   "outputs": [],
   "source": [
    "from functools import partial\n",
    "from modAL.batch import uncertainty_batch_sampling\n",
    "from modAL.models import ActiveLearner\n",
    "\n",
    "# Pre-set our batch sampling to retrieve 3 samples at a time.\n",
    "BATCH_SIZE = 3\n",
    "preset_batch = partial(uncertainty_batch_sampling, n_instances=BATCH_SIZE)\n",
    "\n",
    "# Specify the core estimator along with it's active learning model.\n",
    "XGB = XGBClassifier()\n",
    "learner = ActiveLearner(estimator=XGB, X_training=X_train_new, y_training=y_train_new, query_strategy=preset_batch)\n",
    "\n",
    "#learner = ActiveLearner(estimator=XGB, X_training=X_train_new, y_training=y_train_new)\n",
    "unqueried_score = learner.score(X_train, y_train)\n",
    "unqueried_score_test = learner.score(X_test, y_test)\n"
   ]
  },
  {
   "cell_type": "code",
   "execution_count": 24,
   "metadata": {},
   "outputs": [
    {
     "name": "stdout",
     "output_type": "stream",
     "text": [
      "Accuracy after query 1: 0.6968\n",
      "Accuracy after query 2: 0.6968\n",
      "Accuracy after query 3: 0.6968\n",
      "Accuracy after query 4: 0.6968\n",
      "Accuracy after query 5: 0.7692\n",
      "Accuracy after query 6: 0.7647\n",
      "Accuracy after query 7: 0.7692\n",
      "Accuracy after query 8: 0.7919\n",
      "Accuracy after query 9: 0.7964\n",
      "Accuracy after query 10: 0.8054\n",
      "Accuracy after query 11: 0.8054\n",
      "Accuracy after query 12: 0.8054\n",
      "Accuracy after query 13: 0.8100\n",
      "Accuracy after query 14: 0.8100\n",
      "Accuracy after query 15: 0.8100\n",
      "Accuracy after query 16: 0.8100\n",
      "Accuracy after query 17: 0.8100\n",
      "Accuracy after query 18: 0.8100\n",
      "Accuracy after query 19: 0.8100\n",
      "Accuracy after query 20: 0.8100\n",
      "Accuracy after query 21: 0.8100\n",
      "Accuracy after query 22: 0.8100\n",
      "Accuracy after query 23: 0.8100\n",
      "Accuracy after query 24: 0.8100\n",
      "Accuracy after query 25: 0.8100\n",
      "Accuracy after query 26: 0.8054\n",
      "Accuracy after query 27: 0.8054\n",
      "Accuracy after query 28: 0.8100\n",
      "Accuracy after query 29: 0.8054\n",
      "Accuracy after query 30: 0.8054\n",
      "Accuracy after query 31: 0.8054\n",
      "Accuracy after query 32: 0.8054\n",
      "Accuracy after query 33: 0.8054\n"
     ]
    }
   ],
   "source": [
    "N_RAW_SAMPLES = 100\n",
    "N_QUERIES = N_RAW_SAMPLES // BATCH_SIZE\n",
    "#N_QUERIES = 16\n",
    "\n",
    "\n",
    "performance_history = [unqueried_score]\n",
    "performance_history_test = [unqueried_score_test]\n",
    "\n",
    "for index in range(N_QUERIES):\n",
    "    query_index, query_instance = learner.query(X_pool)\n",
    "\n",
    "    # Teach our ActiveLearner model the record it has requested.\n",
    "    X, y = X_pool[query_index], y_pool[query_index]\n",
    "    learner.teach(X=X, y=y)\n",
    "\n",
    "    # Remove the queried instance from the unlabeled pool.\n",
    "    X_pool = np.delete(X_pool, query_index, axis=0)\n",
    "    y_pool = np.delete(y_pool, query_index)\n",
    "\n",
    "    # Calculate and report our model's accuracy.\n",
    "    model_accuracy = learner.score(X_train, y_train)\n",
    "    print('Accuracy after query {n}: {acc:0.4f}'.format(n=index + 1, acc=model_accuracy))\n",
    "    \n",
    "    # Calculate and report our model's accuracy on training data.\n",
    "    model_accuracy_test = learner.score(X_test, y_test)\n",
    "\n",
    "    # Save our model's performance for plotting.\n",
    "    performance_history.append(model_accuracy)\n",
    "    performance_history_test.append(model_accuracy_test)\n",
    "    \n",
    "\n",
    "    "
   ]
  },
  {
   "cell_type": "code",
   "execution_count": 25,
   "metadata": {},
   "outputs": [
    {
     "name": "stderr",
     "output_type": "stream",
     "text": [
      "The PostScript backend does not support transparency; partially transparent artists will be rendered opaque.\n",
      "The PostScript backend does not support transparency; partially transparent artists will be rendered opaque.\n",
      "The PostScript backend does not support transparency; partially transparent artists will be rendered opaque.\n",
      "The PostScript backend does not support transparency; partially transparent artists will be rendered opaque.\n",
      "The PostScript backend does not support transparency; partially transparent artists will be rendered opaque.\n",
      "The PostScript backend does not support transparency; partially transparent artists will be rendered opaque.\n",
      "The PostScript backend does not support transparency; partially transparent artists will be rendered opaque.\n",
      "The PostScript backend does not support transparency; partially transparent artists will be rendered opaque.\n",
      "The PostScript backend does not support transparency; partially transparent artists will be rendered opaque.\n",
      "The PostScript backend does not support transparency; partially transparent artists will be rendered opaque.\n",
      "The PostScript backend does not support transparency; partially transparent artists will be rendered opaque.\n",
      "The PostScript backend does not support transparency; partially transparent artists will be rendered opaque.\n",
      "The PostScript backend does not support transparency; partially transparent artists will be rendered opaque.\n"
     ]
    },
    {
     "data": {
      "image/png": "[encoded data removed]",
      "text/plain": [
       "<Figure size 1105x780 with 1 Axes>"
      ]
     },
     "metadata": {
      "needs_background": "light"
     },
     "output_type": "display_data"
    }
   ],
   "source": [
    "# Plot our performance over iterations\n",
    "fig, ax = plt.subplots(figsize=(8.5, 6), dpi=130)\n",
    "plt.rcParams[\"font.family\"] = \"Times New Roman\"\n",
    "plt.rcParams.update({'font.size': 12})\n",
    "\n",
    "ax.plot(performance_history)\n",
    "ax.scatter(range(len(performance_history)), performance_history, s=13)\n",
    "\n",
    "ax.plot(performance_history_test)\n",
    "\n",
    "\n",
    "ax.xaxis.set_major_locator(mpl.ticker.MaxNLocator(nbins=N_QUERIES + BATCH_SIZE, integer=True))\n",
    "ax.xaxis.grid(True)\n",
    "\n",
    "ax.yaxis.set_major_locator(mpl.ticker.MaxNLocator(nbins=10))\n",
    "ax.yaxis.set_major_formatter(mpl.ticker.PercentFormatter(xmax=1))\n",
    "ax.set_ylim(bottom=0, top=1)\n",
    "ax.yaxis.grid(True, linestyle='--', alpha=1/2)\n",
    "\n",
    "ax.set_title('Incremental classification accuracy')\n",
    "ax.set_xlabel('Query iteration')\n",
    "ax.set_ylabel('Classification Accuracy')\n",
    "ax.legend(('Training data', 'Test data'),loc='lower right')\n",
    "\n",
    "plt.savefig('column_active_learning_ranked_sampling.eps',format='eps', dpi=1000)\n",
    "plt.show()"
   ]
  },
  {
   "cell_type": "code",
   "execution_count": 26,
   "metadata": {},
   "outputs": [
    {
     "name": "stdout",
     "output_type": "stream",
     "text": [
      "[[150   2   2]\n",
      " [ 15   7  14]\n",
      " [  4   6  21]]\n"
     ]
    }
   ],
   "source": [
    "y_pred_train = learner.predict(X_train)\n",
    "\n",
    "from sklearn.metrics import confusion_matrix\n",
    "confusion_matrix = confusion_matrix(y_train, y_pred_train)\n",
    "print(confusion_matrix)"
   ]
  },
  {
   "cell_type": "code",
   "execution_count": 27,
   "metadata": {},
   "outputs": [
    {
     "name": "stdout",
     "output_type": "stream",
     "text": [
      "Accuracy of RF classifier on test set: 0.78\n"
     ]
    }
   ],
   "source": [
    "# Check the performance on test set\n",
    "\n",
    "print('Accuracy of RF classifier on test set: {:.2f}'\n",
    "     .format(learner.score(X_test, y_test)))"
   ]
  },
  {
   "cell_type": "code",
   "execution_count": 28,
   "metadata": {},
   "outputs": [
    {
     "name": "stdout",
     "output_type": "stream",
     "text": [
      "[[65  1  1]\n",
      " [12  1  4]\n",
      " [ 1  2  8]]\n"
     ]
    }
   ],
   "source": [
    "y_pred_test = learner.predict(X_test)\n",
    "\n",
    "from sklearn.metrics import confusion_matrix\n",
    "confusion_matrix_test = confusion_matrix(y_test, y_pred_test)\n",
    "print(confusion_matrix_test)"
   ]
  },
  {
   "cell_type": "markdown",
   "metadata": {},
   "source": [
    "## For entire data case (upper bound)"
   ]
  },
  {
   "cell_type": "code",
   "execution_count": 29,
   "metadata": {},
   "outputs": [
    {
     "name": "stdout",
     "output_type": "stream",
     "text": [
      "Accuracy of XGB classifier on training set: 0.99\n",
      "Accuracy of XGB classifier on test set: 0.85\n"
     ]
    }
   ],
   "source": [
    "from xgboost import XGBClassifier\n",
    "from sklearn.datasets import make_classification\n",
    "XGB = XGBClassifier()\n",
    "XGB.fit(X_train, y_train)\n",
    "\n",
    "\n",
    "print('Accuracy of XGB classifier on training set: {:.2f}'\n",
    "     .format(XGB.score(X_train, y_train)))\n",
    "print('Accuracy of XGB classifier on test set: {:.2f}'\n",
    "     .format(XGB.score(X_test, y_test)))"
   ]
  },
  {
   "cell_type": "code",
   "execution_count": 30,
   "metadata": {},
   "outputs": [
    {
     "name": "stdout",
     "output_type": "stream",
     "text": [
      "[[153   1   0]\n",
      " [  1  35   0]\n",
      " [  0   0  31]]\n"
     ]
    }
   ],
   "source": [
    "# confusion matrix of training set\n",
    "y_pred_train = XGB.predict(X_train)\n",
    "from sklearn.metrics import confusion_matrix\n",
    "confusion_matrix = confusion_matrix(y_train, y_pred_train)\n",
    "print(confusion_matrix)"
   ]
  },
  {
   "cell_type": "code",
   "execution_count": 31,
   "metadata": {},
   "outputs": [
    {
     "name": "stdout",
     "output_type": "stream",
     "text": [
      "[[63  3  1]\n",
      " [ 6  9  2]\n",
      " [ 0  2  9]]\n"
     ]
    }
   ],
   "source": [
    "\n",
    "# confusion matrix of test set\n",
    "y_pred = XGB.predict(X_test)\n",
    "from sklearn.metrics import confusion_matrix\n",
    "confusion_matrix = confusion_matrix(y_test, y_pred)\n",
    "print(confusion_matrix)"
   ]
  },
  {
   "cell_type": "markdown",
   "metadata": {},
   "source": [
    "# Random Sampling"
   ]
  },
  {
   "cell_type": "code",
   "execution_count": 32,
   "metadata": {},
   "outputs": [
    {
     "name": "stdout",
     "output_type": "stream",
     "text": [
      "Accuracy after query 1: 0.8054\n",
      "Accuracy after query 2: 0.8054\n",
      "Accuracy after query 3: 0.8054\n",
      "Accuracy after query 4: 0.8054\n",
      "Accuracy after query 5: 0.8054\n",
      "Accuracy after query 6: 0.8054\n",
      "Accuracy after query 7: 0.8054\n",
      "Accuracy after query 8: 0.8054\n",
      "Accuracy after query 9: 0.8054\n",
      "Accuracy after query 10: 0.8054\n",
      "Accuracy after query 11: 0.8054\n",
      "Accuracy after query 12: 0.8054\n"
     ]
    },
    {
     "ename": "ValueError",
     "evalue": "empty range for randrange()",
     "output_type": "error",
     "traceback": [
      "\u001b[1;31m---------------------------------------------------------------------------\u001b[0m",
      "\u001b[1;31mValueError\u001b[0m                                Traceback (most recent call last)",
      "\u001b[1;32m<ipython-input-32-347df555272f>\u001b[0m in \u001b[0;36m<module>\u001b[1;34m\u001b[0m\n\u001b[0;32m      9\u001b[0m \u001b[1;33m\u001b[0m\u001b[0m\n\u001b[0;32m     10\u001b[0m \u001b[1;33m\u001b[0m\u001b[0m\n\u001b[1;32m---> 11\u001b[1;33m     \u001b[0mquery_index\u001b[0m \u001b[1;33m=\u001b[0m \u001b[0mrandrange\u001b[0m\u001b[1;33m(\u001b[0m\u001b[0mlen\u001b[0m\u001b[1;33m(\u001b[0m\u001b[0mX_pool\u001b[0m\u001b[1;33m)\u001b[0m\u001b[1;33m)\u001b[0m\u001b[1;33m\u001b[0m\u001b[1;33m\u001b[0m\u001b[0m\n\u001b[0m\u001b[0;32m     12\u001b[0m     \u001b[0mquery_instance\u001b[0m\u001b[1;33m=\u001b[0m\u001b[0mX_pool\u001b[0m\u001b[1;33m[\u001b[0m\u001b[0mquery_index\u001b[0m\u001b[1;33m]\u001b[0m\u001b[1;33m\u001b[0m\u001b[1;33m\u001b[0m\u001b[0m\n\u001b[0;32m     13\u001b[0m \u001b[1;33m\u001b[0m\u001b[0m\n",
      "\u001b[1;32m~\\AppData\\Local\\Continuum\\anaconda3\\lib\\random.py\u001b[0m in \u001b[0;36mrandrange\u001b[1;34m(self, start, stop, step, _int)\u001b[0m\n\u001b[0;32m    188\u001b[0m             \u001b[1;32mif\u001b[0m \u001b[0mistart\u001b[0m \u001b[1;33m>\u001b[0m \u001b[1;36m0\u001b[0m\u001b[1;33m:\u001b[0m\u001b[1;33m\u001b[0m\u001b[1;33m\u001b[0m\u001b[0m\n\u001b[0;32m    189\u001b[0m                 \u001b[1;32mreturn\u001b[0m \u001b[0mself\u001b[0m\u001b[1;33m.\u001b[0m\u001b[0m_randbelow\u001b[0m\u001b[1;33m(\u001b[0m\u001b[0mistart\u001b[0m\u001b[1;33m)\u001b[0m\u001b[1;33m\u001b[0m\u001b[1;33m\u001b[0m\u001b[0m\n\u001b[1;32m--> 190\u001b[1;33m             \u001b[1;32mraise\u001b[0m \u001b[0mValueError\u001b[0m\u001b[1;33m(\u001b[0m\u001b[1;34m\"empty range for randrange()\"\u001b[0m\u001b[1;33m)\u001b[0m\u001b[1;33m\u001b[0m\u001b[1;33m\u001b[0m\u001b[0m\n\u001b[0m\u001b[0;32m    191\u001b[0m \u001b[1;33m\u001b[0m\u001b[0m\n\u001b[0;32m    192\u001b[0m         \u001b[1;31m# stop argument supplied.\u001b[0m\u001b[1;33m\u001b[0m\u001b[1;33m\u001b[0m\u001b[1;33m\u001b[0m\u001b[0m\n",
      "\u001b[1;31mValueError\u001b[0m: empty range for randrange()"
     ]
    }
   ],
   "source": [
    "#N_QUERIES = len(X_train)-size\n",
    "from random import randrange\n",
    "N_QUERIES = 100\n",
    "performance_history = [unqueried_score]\n",
    "performance_history_test = [unqueried_score_test]\n",
    "# Allow our model to query our unlabeled dataset for the most\n",
    "# informative points according to our query strategy (uncertainty sampling).\n",
    "for index in range(N_QUERIES):\n",
    "    \n",
    "    \n",
    "    query_index = randrange(len(X_pool))\n",
    "    query_instance=X_pool[query_index]\n",
    "\n",
    "    # Teach our ActiveLearner model the record it has requested.\n",
    "    X, y = X_pool[query_index].reshape(1, -1), y_pool[query_index].reshape(1, )\n",
    "    learner.teach(X=X, y=y)\n",
    "\n",
    "    # Remove the queried instance from the unlabeled pool.\n",
    "    X_pool, y_pool = np.delete(X_pool, query_index, axis=0), np.delete(y_pool, query_index)\n",
    "\n",
    "    # Calculate and report our model's accuracy on training data.\n",
    "    model_accuracy = learner.score(X_train, y_train)\n",
    "    print('Accuracy after query {n}: {acc:0.4f}'.format(n=index + 1, acc=model_accuracy))\n",
    "\n",
    "    # Calculate and report our model's accuracy on training data.\n",
    "    model_accuracy_test = learner.score(X_test, y_test)\n",
    "\n",
    "    # Save our model's performance for plotting.\n",
    "    performance_history.append(model_accuracy)\n",
    "    performance_history_test.append(model_accuracy_test)"
   ]
  },
  {
   "cell_type": "code",
   "execution_count": null,
   "metadata": {},
   "outputs": [],
   "source": [
    "X_pool"
   ]
  },
  {
   "cell_type": "code",
   "execution_count": null,
   "metadata": {},
   "outputs": [],
   "source": [
    "# Plot our performance over time.\n",
    "fig, ax = plt.subplots(figsize=(6, 3), dpi=130)\n",
    "plt.rcParams[\"font.family\"] = \"Times New Roman\"\n",
    "plt.rcParams.update({'font.size': 12})\n",
    "\n",
    "ax.plot(performance_history)\n",
    "ax.scatter(range(len(performance_history)), performance_history, s=13)\n",
    "\n",
    "ax.plot(performance_history_test)\n",
    "\n",
    "\n",
    "\n",
    "ax.xaxis.set_major_locator(mpl.ticker.MaxNLocator(nbins=5, integer=True))\n",
    "ax.yaxis.set_major_locator(mpl.ticker.MaxNLocator(nbins=10))\n",
    "ax.yaxis.set_major_formatter(mpl.ticker.PercentFormatter(xmax=1))\n",
    "\n",
    "ax.set_ylim(bottom=0, top=1)\n",
    "ax.grid(True)\n",
    "\n",
    "ax.set_title('Incremental classification accuracy')\n",
    "ax.set_xlabel('Query iteration')\n",
    "ax.set_ylabel('Classification Accuracy')\n",
    "\n",
    "ax.legend(('Training data', 'Test data'),loc='lower right')\n",
    "\n",
    "plt.savefig('column_active_learning_random_sampling.eps',format='eps', dpi=1000)\n",
    "plt.show()"
   ]
  },
  {
   "cell_type": "code",
   "execution_count": null,
   "metadata": {},
   "outputs": [],
   "source": [
    "y_pred_train = learner.predict(X_train)\n",
    "\n",
    "from sklearn.metrics import confusion_matrix\n",
    "confusion_matrix = confusion_matrix(y_train, y_pred_train)\n",
    "print(confusion_matrix)"
   ]
  },
  {
   "cell_type": "code",
   "execution_count": null,
   "metadata": {},
   "outputs": [],
   "source": [
    "print('Accuracy of RF classifier on test set: {:.2f}'\n",
    "     .format(learner.score(X_test, y_test)))"
   ]
  },
  {
   "cell_type": "code",
   "execution_count": null,
   "metadata": {},
   "outputs": [],
   "source": [
    "y_pred_test = learner.predict(X_test)\n",
    "\n",
    "from sklearn.metrics import confusion_matrix\n",
    "confusion_matrix_test = confusion_matrix(y_test, y_pred_test)\n",
    "print(confusion_matrix_test)"
   ]
  }
 ],
 "metadata": {
  "kernelspec": {
   "display_name": "Python 3",
   "language": "python",
   "name": "python3"
  },
  "language_info": {
   "codemirror_mode": {
    "name": "ipython",
    "version": 3
   },
   "file_extension": ".py",
   "mimetype": "text/x-python",
   "name": "python",
   "nbconvert_exporter": "python",
   "pygments_lexer": "ipython3",
   "version": "3.7.3"
  }
 },
 "nbformat": 4,
 "nbformat_minor": 2
}
