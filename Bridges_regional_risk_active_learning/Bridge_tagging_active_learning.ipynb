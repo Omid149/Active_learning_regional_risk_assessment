{
 "cells": [
  {
   "cell_type": "code",
   "execution_count": 1,
   "metadata": {},
   "outputs": [],
   "source": [
    "import numpy as np\n",
    "import shap\n",
    "import xgboost\n",
    "import pandas as pd\n",
    "import numpy as np\n",
    "from sklearn.model_selection import train_test_split\n",
    "%matplotlib inline\n",
    "import matplotlib as mpl\n",
    "import matplotlib.pyplot as plt\n",
    "\n",
    "# Set our RNG seed for reproducibility.\n",
    "RANDOM_STATE_SEED = 123\n",
    "np.random.seed(RANDOM_STATE_SEED)"
   ]
  },
  {
   "cell_type": "code",
   "execution_count": 2,
   "metadata": {},
   "outputs": [
    {
     "data": {
      "text/html": [
       "<div>\n",
       "<style scoped>\n",
       "    .dataframe tbody tr th:only-of-type {\n",
       "        vertical-align: middle;\n",
       "    }\n",
       "\n",
       "    .dataframe tbody tr th {\n",
       "        vertical-align: top;\n",
       "    }\n",
       "\n",
       "    .dataframe thead th {\n",
       "        text-align: right;\n",
       "    }\n",
       "</style>\n",
       "<table border=\"1\" class=\"dataframe\">\n",
       "  <thead>\n",
       "    <tr style=\"text-align: right;\">\n",
       "      <th></th>\n",
       "      <th>Unnamed: 0</th>\n",
       "      <th>ln(X1)</th>\n",
       "      <th>ln(X2)</th>\n",
       "      <th>ln(X3)</th>\n",
       "      <th>ln(X4)</th>\n",
       "      <th>ln(X5)</th>\n",
       "      <th>ln(X6)</th>\n",
       "      <th>ln(X7)</th>\n",
       "      <th>ln(X8)</th>\n",
       "      <th>ln(X9)</th>\n",
       "      <th>...</th>\n",
       "      <th>ln(X18)</th>\n",
       "      <th>ln(X19)</th>\n",
       "      <th>ln(X20)</th>\n",
       "      <th>ln(X21)</th>\n",
       "      <th>Y</th>\n",
       "      <th>Unnamed: 23</th>\n",
       "      <th>Unnamed: 24</th>\n",
       "      <th>Unnamed: 25</th>\n",
       "      <th>Unnamed: 26</th>\n",
       "      <th>Unnamed: 27</th>\n",
       "    </tr>\n",
       "  </thead>\n",
       "  <tbody>\n",
       "    <tr>\n",
       "      <th>2</th>\n",
       "      <td>1</td>\n",
       "      <td>-1.76892</td>\n",
       "      <td>2</td>\n",
       "      <td>3.42406</td>\n",
       "      <td>6.15079</td>\n",
       "      <td>3.80603</td>\n",
       "      <td>2.90403</td>\n",
       "      <td>2.06883</td>\n",
       "      <td>-3.67494</td>\n",
       "      <td>6.04694</td>\n",
       "      <td>...</td>\n",
       "      <td>0.0836649</td>\n",
       "      <td>2.3772</td>\n",
       "      <td>1.27827</td>\n",
       "      <td>0.092612</td>\n",
       "      <td>0</td>\n",
       "      <td>NaN</td>\n",
       "      <td>NaN</td>\n",
       "      <td>NaN</td>\n",
       "      <td>NaN</td>\n",
       "      <td>counts</td>\n",
       "    </tr>\n",
       "    <tr>\n",
       "      <th>3</th>\n",
       "      <td>2</td>\n",
       "      <td>-0.849313</td>\n",
       "      <td>1</td>\n",
       "      <td>3.61803</td>\n",
       "      <td>6.27968</td>\n",
       "      <td>4.09669</td>\n",
       "      <td>2.87971</td>\n",
       "      <td>1.86966</td>\n",
       "      <td>-4.13065</td>\n",
       "      <td>5.19031</td>\n",
       "      <td>...</td>\n",
       "      <td>0.0190225</td>\n",
       "      <td>2.38097</td>\n",
       "      <td>-0.244324</td>\n",
       "      <td>-0.00992574</td>\n",
       "      <td>2</td>\n",
       "      <td>NaN</td>\n",
       "      <td>NaN</td>\n",
       "      <td>Green</td>\n",
       "      <td>0.0</td>\n",
       "      <td>168</td>\n",
       "    </tr>\n",
       "    <tr>\n",
       "      <th>4</th>\n",
       "      <td>3</td>\n",
       "      <td>-0.810957</td>\n",
       "      <td>2</td>\n",
       "      <td>3.2897</td>\n",
       "      <td>6.06654</td>\n",
       "      <td>3.42008</td>\n",
       "      <td>2.85569</td>\n",
       "      <td>2.11903</td>\n",
       "      <td>-3.61052</td>\n",
       "      <td>4.85355</td>\n",
       "      <td>...</td>\n",
       "      <td>0.021253</td>\n",
       "      <td>3.75819</td>\n",
       "      <td>3.56337</td>\n",
       "      <td>-0.0903273</td>\n",
       "      <td>1</td>\n",
       "      <td>NaN</td>\n",
       "      <td>NaN</td>\n",
       "      <td>Yellow</td>\n",
       "      <td>1.0</td>\n",
       "      <td>81</td>\n",
       "    </tr>\n",
       "    <tr>\n",
       "      <th>5</th>\n",
       "      <td>4</td>\n",
       "      <td>-1.01444</td>\n",
       "      <td>1</td>\n",
       "      <td>3.24493</td>\n",
       "      <td>6.03941</td>\n",
       "      <td>3.7235</td>\n",
       "      <td>2.85838</td>\n",
       "      <td>2.1065</td>\n",
       "      <td>-3.62457</td>\n",
       "      <td>5.90902</td>\n",
       "      <td>...</td>\n",
       "      <td>0.0594619</td>\n",
       "      <td>2.76136</td>\n",
       "      <td>2.41012</td>\n",
       "      <td>0.17881</td>\n",
       "      <td>2</td>\n",
       "      <td>NaN</td>\n",
       "      <td>NaN</td>\n",
       "      <td>Red</td>\n",
       "      <td>2.0</td>\n",
       "      <td>231</td>\n",
       "    </tr>\n",
       "    <tr>\n",
       "      <th>6</th>\n",
       "      <td>5</td>\n",
       "      <td>-1.01397</td>\n",
       "      <td>2</td>\n",
       "      <td>3.44313</td>\n",
       "      <td>6.16308</td>\n",
       "      <td>3.97865</td>\n",
       "      <td>2.98213</td>\n",
       "      <td>1.83201</td>\n",
       "      <td>-4.23109</td>\n",
       "      <td>4.42053</td>\n",
       "      <td>...</td>\n",
       "      <td>-0.00781008</td>\n",
       "      <td>2.89474</td>\n",
       "      <td>2.69792</td>\n",
       "      <td>0.0852726</td>\n",
       "      <td>2</td>\n",
       "      <td>NaN</td>\n",
       "      <td>NaN</td>\n",
       "      <td>NaN</td>\n",
       "      <td>NaN</td>\n",
       "      <td>NaN</td>\n",
       "    </tr>\n",
       "  </tbody>\n",
       "</table>\n",
       "<p>5 rows × 28 columns</p>\n",
       "</div>"
      ],
      "text/plain": [
       "  Unnamed: 0    ln(X1) ln(X2)   ln(X3)   ln(X4)   ln(X5)   ln(X6)   ln(X7)  \\\n",
       "2          1  -1.76892      2  3.42406  6.15079  3.80603  2.90403  2.06883   \n",
       "3          2 -0.849313      1  3.61803  6.27968  4.09669  2.87971  1.86966   \n",
       "4          3 -0.810957      2   3.2897  6.06654  3.42008  2.85569  2.11903   \n",
       "5          4  -1.01444      1  3.24493  6.03941   3.7235  2.85838   2.1065   \n",
       "6          5  -1.01397      2  3.44313  6.16308  3.97865  2.98213  1.83201   \n",
       "\n",
       "    ln(X8)   ln(X9)  ...     ln(X18)  ln(X19)   ln(X20)     ln(X21)  Y  \\\n",
       "2 -3.67494  6.04694  ...   0.0836649   2.3772   1.27827    0.092612  0   \n",
       "3 -4.13065  5.19031  ...   0.0190225  2.38097 -0.244324 -0.00992574  2   \n",
       "4 -3.61052  4.85355  ...    0.021253  3.75819   3.56337  -0.0903273  1   \n",
       "5 -3.62457  5.90902  ...   0.0594619  2.76136   2.41012     0.17881  2   \n",
       "6 -4.23109  4.42053  ... -0.00781008  2.89474   2.69792   0.0852726  2   \n",
       "\n",
       "  Unnamed: 23 Unnamed: 24 Unnamed: 25 Unnamed: 26 Unnamed: 27  \n",
       "2         NaN         NaN         NaN         NaN      counts  \n",
       "3         NaN         NaN       Green         0.0         168  \n",
       "4         NaN         NaN      Yellow         1.0          81  \n",
       "5         NaN         NaN         Red         2.0         231  \n",
       "6         NaN         NaN         NaN         NaN         NaN  \n",
       "\n",
       "[5 rows x 28 columns]"
      ]
     },
     "execution_count": 2,
     "metadata": {},
     "output_type": "execute_result"
    }
   ],
   "source": [
    "data1 = pd.read_excel('InputNOutput_Seat_2Span_2Col.xls', sheet_name='Tag_summary')\n",
    "data1 = data1.iloc[2:]\n",
    "data1.head()"
   ]
  },
  {
   "cell_type": "code",
   "execution_count": 3,
   "metadata": {},
   "outputs": [
    {
     "data": {
      "text/html": [
       "<div>\n",
       "<style scoped>\n",
       "    .dataframe tbody tr th:only-of-type {\n",
       "        vertical-align: middle;\n",
       "    }\n",
       "\n",
       "    .dataframe tbody tr th {\n",
       "        vertical-align: top;\n",
       "    }\n",
       "\n",
       "    .dataframe thead th {\n",
       "        text-align: right;\n",
       "    }\n",
       "</style>\n",
       "<table border=\"1\" class=\"dataframe\">\n",
       "  <thead>\n",
       "    <tr style=\"text-align: right;\">\n",
       "      <th></th>\n",
       "      <th>ln(X1)</th>\n",
       "      <th>ln(X2)</th>\n",
       "      <th>ln(X3)</th>\n",
       "      <th>ln(X4)</th>\n",
       "      <th>ln(X5)</th>\n",
       "      <th>ln(X6)</th>\n",
       "      <th>ln(X7)</th>\n",
       "      <th>ln(X8)</th>\n",
       "      <th>ln(X9)</th>\n",
       "      <th>ln(X10)</th>\n",
       "      <th>...</th>\n",
       "      <th>ln(X13)</th>\n",
       "      <th>ln(X14)</th>\n",
       "      <th>ln(X15)</th>\n",
       "      <th>ln(X16)</th>\n",
       "      <th>ln(X17)</th>\n",
       "      <th>ln(X18)</th>\n",
       "      <th>ln(X19)</th>\n",
       "      <th>ln(X20)</th>\n",
       "      <th>ln(X21)</th>\n",
       "      <th>Y</th>\n",
       "    </tr>\n",
       "  </thead>\n",
       "  <tbody>\n",
       "    <tr>\n",
       "      <th>2</th>\n",
       "      <td>-1.76892</td>\n",
       "      <td>2</td>\n",
       "      <td>3.42406</td>\n",
       "      <td>6.15079</td>\n",
       "      <td>3.80603</td>\n",
       "      <td>2.90403</td>\n",
       "      <td>2.06883</td>\n",
       "      <td>-3.67494</td>\n",
       "      <td>6.04694</td>\n",
       "      <td>0.25919</td>\n",
       "      <td>...</td>\n",
       "      <td>-1.61169</td>\n",
       "      <td>2</td>\n",
       "      <td>-0.81535</td>\n",
       "      <td>-1.41901</td>\n",
       "      <td>-2.90731</td>\n",
       "      <td>0.0836649</td>\n",
       "      <td>2.3772</td>\n",
       "      <td>1.27827</td>\n",
       "      <td>0.092612</td>\n",
       "      <td>0</td>\n",
       "    </tr>\n",
       "    <tr>\n",
       "      <th>3</th>\n",
       "      <td>-0.849313</td>\n",
       "      <td>1</td>\n",
       "      <td>3.61803</td>\n",
       "      <td>6.27968</td>\n",
       "      <td>4.09669</td>\n",
       "      <td>2.87971</td>\n",
       "      <td>1.86966</td>\n",
       "      <td>-4.13065</td>\n",
       "      <td>5.19031</td>\n",
       "      <td>-0.240667</td>\n",
       "      <td>...</td>\n",
       "      <td>-1.98127</td>\n",
       "      <td>2</td>\n",
       "      <td>-1.16175</td>\n",
       "      <td>-1.80196</td>\n",
       "      <td>-2.78804</td>\n",
       "      <td>0.0190225</td>\n",
       "      <td>2.38097</td>\n",
       "      <td>-0.244324</td>\n",
       "      <td>-0.00992574</td>\n",
       "      <td>2</td>\n",
       "    </tr>\n",
       "    <tr>\n",
       "      <th>4</th>\n",
       "      <td>-0.810957</td>\n",
       "      <td>2</td>\n",
       "      <td>3.2897</td>\n",
       "      <td>6.06654</td>\n",
       "      <td>3.42008</td>\n",
       "      <td>2.85569</td>\n",
       "      <td>2.11903</td>\n",
       "      <td>-3.61052</td>\n",
       "      <td>4.85355</td>\n",
       "      <td>0.116964</td>\n",
       "      <td>...</td>\n",
       "      <td>-1.99085</td>\n",
       "      <td>2</td>\n",
       "      <td>0.126054</td>\n",
       "      <td>-0.795944</td>\n",
       "      <td>-3.32932</td>\n",
       "      <td>0.021253</td>\n",
       "      <td>3.75819</td>\n",
       "      <td>3.56337</td>\n",
       "      <td>-0.0903273</td>\n",
       "      <td>1</td>\n",
       "    </tr>\n",
       "    <tr>\n",
       "      <th>5</th>\n",
       "      <td>-1.01444</td>\n",
       "      <td>1</td>\n",
       "      <td>3.24493</td>\n",
       "      <td>6.03941</td>\n",
       "      <td>3.7235</td>\n",
       "      <td>2.85838</td>\n",
       "      <td>2.1065</td>\n",
       "      <td>-3.62457</td>\n",
       "      <td>5.90902</td>\n",
       "      <td>0.0916618</td>\n",
       "      <td>...</td>\n",
       "      <td>-2.11952</td>\n",
       "      <td>2</td>\n",
       "      <td>-0.168108</td>\n",
       "      <td>-0.952472</td>\n",
       "      <td>-3.16904</td>\n",
       "      <td>0.0594619</td>\n",
       "      <td>2.76136</td>\n",
       "      <td>2.41012</td>\n",
       "      <td>0.17881</td>\n",
       "      <td>2</td>\n",
       "    </tr>\n",
       "    <tr>\n",
       "      <th>6</th>\n",
       "      <td>-1.01397</td>\n",
       "      <td>2</td>\n",
       "      <td>3.44313</td>\n",
       "      <td>6.16308</td>\n",
       "      <td>3.97865</td>\n",
       "      <td>2.98213</td>\n",
       "      <td>1.83201</td>\n",
       "      <td>-4.23109</td>\n",
       "      <td>4.42053</td>\n",
       "      <td>-0.236855</td>\n",
       "      <td>...</td>\n",
       "      <td>-1.88036</td>\n",
       "      <td>2</td>\n",
       "      <td>-0.209786</td>\n",
       "      <td>-0.976773</td>\n",
       "      <td>-3.0113</td>\n",
       "      <td>-0.00781008</td>\n",
       "      <td>2.89474</td>\n",
       "      <td>2.69792</td>\n",
       "      <td>0.0852726</td>\n",
       "      <td>2</td>\n",
       "    </tr>\n",
       "  </tbody>\n",
       "</table>\n",
       "<p>5 rows × 22 columns</p>\n",
       "</div>"
      ],
      "text/plain": [
       "     ln(X1) ln(X2)   ln(X3)   ln(X4)   ln(X5)   ln(X6)   ln(X7)   ln(X8)  \\\n",
       "2  -1.76892      2  3.42406  6.15079  3.80603  2.90403  2.06883 -3.67494   \n",
       "3 -0.849313      1  3.61803  6.27968  4.09669  2.87971  1.86966 -4.13065   \n",
       "4 -0.810957      2   3.2897  6.06654  3.42008  2.85569  2.11903 -3.61052   \n",
       "5  -1.01444      1  3.24493  6.03941   3.7235  2.85838   2.1065 -3.62457   \n",
       "6  -1.01397      2  3.44313  6.16308  3.97865  2.98213  1.83201 -4.23109   \n",
       "\n",
       "    ln(X9)    ln(X10)  ...  ln(X13) ln(X14)   ln(X15)   ln(X16)  ln(X17)  \\\n",
       "2  6.04694    0.25919  ... -1.61169       2  -0.81535  -1.41901 -2.90731   \n",
       "3  5.19031  -0.240667  ... -1.98127       2  -1.16175  -1.80196 -2.78804   \n",
       "4  4.85355   0.116964  ... -1.99085       2  0.126054 -0.795944 -3.32932   \n",
       "5  5.90902  0.0916618  ... -2.11952       2 -0.168108 -0.952472 -3.16904   \n",
       "6  4.42053  -0.236855  ... -1.88036       2 -0.209786 -0.976773  -3.0113   \n",
       "\n",
       "      ln(X18)  ln(X19)   ln(X20)     ln(X21)  Y  \n",
       "2   0.0836649   2.3772   1.27827    0.092612  0  \n",
       "3   0.0190225  2.38097 -0.244324 -0.00992574  2  \n",
       "4    0.021253  3.75819   3.56337  -0.0903273  1  \n",
       "5   0.0594619  2.76136   2.41012     0.17881  2  \n",
       "6 -0.00781008  2.89474   2.69792   0.0852726  2  \n",
       "\n",
       "[5 rows x 22 columns]"
      ]
     },
     "execution_count": 3,
     "metadata": {},
     "output_type": "execute_result"
    }
   ],
   "source": [
    "#data=data1.loc[:, 'ln(X1)':'ln(X21)', 'Y']\n",
    "\n",
    "data=data1.loc[:, 'ln(X1)':'Y']\n",
    "data.head()"
   ]
  },
  {
   "cell_type": "code",
   "execution_count": 4,
   "metadata": {},
   "outputs": [
    {
     "data": {
      "text/html": [
       "<div>\n",
       "<style scoped>\n",
       "    .dataframe tbody tr th:only-of-type {\n",
       "        vertical-align: middle;\n",
       "    }\n",
       "\n",
       "    .dataframe tbody tr th {\n",
       "        vertical-align: top;\n",
       "    }\n",
       "\n",
       "    .dataframe thead th {\n",
       "        text-align: right;\n",
       "    }\n",
       "</style>\n",
       "<table border=\"1\" class=\"dataframe\">\n",
       "  <thead>\n",
       "    <tr style=\"text-align: right;\">\n",
       "      <th></th>\n",
       "      <th>ln(X1)</th>\n",
       "      <th>ln(X3)</th>\n",
       "      <th>ln(X4)</th>\n",
       "      <th>ln(X5)</th>\n",
       "      <th>ln(X6)</th>\n",
       "      <th>ln(X7)</th>\n",
       "      <th>ln(X8)</th>\n",
       "      <th>ln(X9)</th>\n",
       "      <th>ln(X10)</th>\n",
       "      <th>ln(X11)</th>\n",
       "      <th>...</th>\n",
       "      <th>ln(X17)</th>\n",
       "      <th>ln(X18)</th>\n",
       "      <th>ln(X19)</th>\n",
       "      <th>ln(X20)</th>\n",
       "      <th>ln(X21)</th>\n",
       "      <th>Y</th>\n",
       "      <th>ln(X2)_1</th>\n",
       "      <th>ln(X2)_2</th>\n",
       "      <th>ln(X14)_1</th>\n",
       "      <th>ln(X14)_2</th>\n",
       "    </tr>\n",
       "  </thead>\n",
       "  <tbody>\n",
       "    <tr>\n",
       "      <th>2</th>\n",
       "      <td>-1.76892</td>\n",
       "      <td>3.42406</td>\n",
       "      <td>6.15079</td>\n",
       "      <td>3.80603</td>\n",
       "      <td>2.90403</td>\n",
       "      <td>2.06883</td>\n",
       "      <td>-3.67494</td>\n",
       "      <td>6.04694</td>\n",
       "      <td>0.25919</td>\n",
       "      <td>-0.202621</td>\n",
       "      <td>...</td>\n",
       "      <td>-2.90731</td>\n",
       "      <td>0.0836649</td>\n",
       "      <td>2.3772</td>\n",
       "      <td>1.27827</td>\n",
       "      <td>0.092612</td>\n",
       "      <td>0</td>\n",
       "      <td>0</td>\n",
       "      <td>1</td>\n",
       "      <td>0</td>\n",
       "      <td>1</td>\n",
       "    </tr>\n",
       "    <tr>\n",
       "      <th>3</th>\n",
       "      <td>-0.849313</td>\n",
       "      <td>3.61803</td>\n",
       "      <td>6.27968</td>\n",
       "      <td>4.09669</td>\n",
       "      <td>2.87971</td>\n",
       "      <td>1.86966</td>\n",
       "      <td>-4.13065</td>\n",
       "      <td>5.19031</td>\n",
       "      <td>-0.240667</td>\n",
       "      <td>1.1846</td>\n",
       "      <td>...</td>\n",
       "      <td>-2.78804</td>\n",
       "      <td>0.0190225</td>\n",
       "      <td>2.38097</td>\n",
       "      <td>-0.244324</td>\n",
       "      <td>-0.00992574</td>\n",
       "      <td>2</td>\n",
       "      <td>1</td>\n",
       "      <td>0</td>\n",
       "      <td>0</td>\n",
       "      <td>1</td>\n",
       "    </tr>\n",
       "    <tr>\n",
       "      <th>4</th>\n",
       "      <td>-0.810957</td>\n",
       "      <td>3.2897</td>\n",
       "      <td>6.06654</td>\n",
       "      <td>3.42008</td>\n",
       "      <td>2.85569</td>\n",
       "      <td>2.11903</td>\n",
       "      <td>-3.61052</td>\n",
       "      <td>4.85355</td>\n",
       "      <td>0.116964</td>\n",
       "      <td>-0.0676165</td>\n",
       "      <td>...</td>\n",
       "      <td>-3.32932</td>\n",
       "      <td>0.021253</td>\n",
       "      <td>3.75819</td>\n",
       "      <td>3.56337</td>\n",
       "      <td>-0.0903273</td>\n",
       "      <td>1</td>\n",
       "      <td>0</td>\n",
       "      <td>1</td>\n",
       "      <td>0</td>\n",
       "      <td>1</td>\n",
       "    </tr>\n",
       "    <tr>\n",
       "      <th>5</th>\n",
       "      <td>-1.01444</td>\n",
       "      <td>3.24493</td>\n",
       "      <td>6.03941</td>\n",
       "      <td>3.7235</td>\n",
       "      <td>2.85838</td>\n",
       "      <td>2.1065</td>\n",
       "      <td>-3.62457</td>\n",
       "      <td>5.90902</td>\n",
       "      <td>0.0916618</td>\n",
       "      <td>0.983077</td>\n",
       "      <td>...</td>\n",
       "      <td>-3.16904</td>\n",
       "      <td>0.0594619</td>\n",
       "      <td>2.76136</td>\n",
       "      <td>2.41012</td>\n",
       "      <td>0.17881</td>\n",
       "      <td>2</td>\n",
       "      <td>1</td>\n",
       "      <td>0</td>\n",
       "      <td>0</td>\n",
       "      <td>1</td>\n",
       "    </tr>\n",
       "    <tr>\n",
       "      <th>6</th>\n",
       "      <td>-1.01397</td>\n",
       "      <td>3.44313</td>\n",
       "      <td>6.16308</td>\n",
       "      <td>3.97865</td>\n",
       "      <td>2.98213</td>\n",
       "      <td>1.83201</td>\n",
       "      <td>-4.23109</td>\n",
       "      <td>4.42053</td>\n",
       "      <td>-0.236855</td>\n",
       "      <td>1.04207</td>\n",
       "      <td>...</td>\n",
       "      <td>-3.0113</td>\n",
       "      <td>-0.00781008</td>\n",
       "      <td>2.89474</td>\n",
       "      <td>2.69792</td>\n",
       "      <td>0.0852726</td>\n",
       "      <td>2</td>\n",
       "      <td>0</td>\n",
       "      <td>1</td>\n",
       "      <td>0</td>\n",
       "      <td>1</td>\n",
       "    </tr>\n",
       "  </tbody>\n",
       "</table>\n",
       "<p>5 rows × 24 columns</p>\n",
       "</div>"
      ],
      "text/plain": [
       "     ln(X1)   ln(X3)   ln(X4)   ln(X5)   ln(X6)   ln(X7)   ln(X8)   ln(X9)  \\\n",
       "2  -1.76892  3.42406  6.15079  3.80603  2.90403  2.06883 -3.67494  6.04694   \n",
       "3 -0.849313  3.61803  6.27968  4.09669  2.87971  1.86966 -4.13065  5.19031   \n",
       "4 -0.810957   3.2897  6.06654  3.42008  2.85569  2.11903 -3.61052  4.85355   \n",
       "5  -1.01444  3.24493  6.03941   3.7235  2.85838   2.1065 -3.62457  5.90902   \n",
       "6  -1.01397  3.44313  6.16308  3.97865  2.98213  1.83201 -4.23109  4.42053   \n",
       "\n",
       "     ln(X10)    ln(X11)  ...  ln(X17)     ln(X18)  ln(X19)   ln(X20)  \\\n",
       "2    0.25919  -0.202621  ... -2.90731   0.0836649   2.3772   1.27827   \n",
       "3  -0.240667     1.1846  ... -2.78804   0.0190225  2.38097 -0.244324   \n",
       "4   0.116964 -0.0676165  ... -3.32932    0.021253  3.75819   3.56337   \n",
       "5  0.0916618   0.983077  ... -3.16904   0.0594619  2.76136   2.41012   \n",
       "6  -0.236855    1.04207  ...  -3.0113 -0.00781008  2.89474   2.69792   \n",
       "\n",
       "      ln(X21)  Y ln(X2)_1 ln(X2)_2 ln(X14)_1 ln(X14)_2  \n",
       "2    0.092612  0        0        1         0         1  \n",
       "3 -0.00992574  2        1        0         0         1  \n",
       "4  -0.0903273  1        0        1         0         1  \n",
       "5     0.17881  2        1        0         0         1  \n",
       "6   0.0852726  2        0        1         0         1  \n",
       "\n",
       "[5 rows x 24 columns]"
      ]
     },
     "execution_count": 4,
     "metadata": {},
     "output_type": "execute_result"
    }
   ],
   "source": [
    "#One Hot Encoding for the categorical values\n",
    "data = pd.get_dummies(data = data , columns=['ln(X2)', 'ln(X14)'] )\n",
    "data.head()"
   ]
  },
  {
   "cell_type": "code",
   "execution_count": 5,
   "metadata": {},
   "outputs": [],
   "source": [
    "# Generate X and y data\n",
    "X = data.loc[:, data.columns != 'Y'].to_numpy()\n",
    "y =data['Y'].to_numpy().astype('int64')\n",
    "\n",
    "#X.head()"
   ]
  },
  {
   "cell_type": "code",
   "execution_count": 6,
   "metadata": {},
   "outputs": [],
   "source": [
    "# Split the data into training and test\n",
    "X_train, X_test, y_train, y_test = train_test_split(X, y, test_size=0.3, random_state=0)\n",
    "\n",
    "from sklearn.preprocessing import MinMaxScaler\n",
    "scaler = MinMaxScaler()\n",
    "X_train = scaler.fit_transform(X_train)\n",
    "X_test = scaler.transform(X_test)"
   ]
  },
  {
   "cell_type": "code",
   "execution_count": 7,
   "metadata": {},
   "outputs": [],
   "source": [
    "# Isolate our examples for our columns data that have labels\n",
    "n_labeled_examples = X_train.shape[0]\n",
    "size = 10 #Intial Samples\n",
    "training_indices = np.random.randint(low=0, high=n_labeled_examples + 1, size =20)"
   ]
  },
  {
   "cell_type": "code",
   "execution_count": 8,
   "metadata": {},
   "outputs": [
    {
     "data": {
      "text/plain": [
       "array([322,  98, 230,  17,  83, 106, 123,  57, 214, 225,  96, 113, 126,\n",
       "        47,  73,  32, 224, 111, 334, 253])"
      ]
     },
     "execution_count": 8,
     "metadata": {},
     "output_type": "execute_result"
    }
   ],
   "source": [
    "training_indices"
   ]
  },
  {
   "cell_type": "code",
   "execution_count": 9,
   "metadata": {},
   "outputs": [],
   "source": [
    "X_train_new = X_train[training_indices]\n",
    "y_train_new = y_train[training_indices]"
   ]
  },
  {
   "cell_type": "code",
   "execution_count": 10,
   "metadata": {},
   "outputs": [],
   "source": [
    "# Isolate the non-training examples we'll be querying.\n",
    "X_pool = np.delete(X_train, training_indices, axis=0)\n",
    "y_pool = np.delete(y_train, training_indices, axis=0)"
   ]
  },
  {
   "cell_type": "code",
   "execution_count": 11,
   "metadata": {},
   "outputs": [],
   "source": [
    "from xgboost import XGBClassifier\n",
    "from modAL.models import ActiveLearner\n",
    "\n",
    "# Specify the core estimator along with it's active learning model.\n",
    "XGB = XGBClassifier()\n",
    "learner = ActiveLearner(estimator=XGB, X_training=X_train_new, y_training=y_train_new)"
   ]
  },
  {
   "cell_type": "code",
   "execution_count": 12,
   "metadata": {},
   "outputs": [],
   "source": [
    "# Isolate the data we'll need for plotting.\n",
    "predictions = learner.predict(X_train)\n",
    "is_correct = (predictions == y_train)"
   ]
  },
  {
   "cell_type": "code",
   "execution_count": 13,
   "metadata": {},
   "outputs": [
    {
     "data": {
      "text/plain": [
       "0.7380952380952381"
      ]
     },
     "execution_count": 13,
     "metadata": {},
     "output_type": "execute_result"
    }
   ],
   "source": [
    "learner.score(X_train, y_train)"
   ]
  },
  {
   "cell_type": "code",
   "execution_count": 14,
   "metadata": {},
   "outputs": [
    {
     "data": {
      "image/png": "[encoded data removed]",
      "text/plain": [
       "<Figure size 520x520 with 1 Axes>"
      ]
     },
     "metadata": {
      "needs_background": "light"
     },
     "output_type": "display_data"
    }
   ],
   "source": [
    "# Record our learner's score on the raw data.\n",
    "unqueried_score = learner.score(X_train, y_train)\n",
    "unqueried_score_test = learner.score(X_test, y_test)\n",
    "\n",
    "\n",
    "# Plot our classification results.\n",
    "fig, ax = plt.subplots(figsize=(4, 4), dpi=130)\n",
    "ax.scatter(x=X_train[is_correct][:,0],  y=X_train[is_correct][:,1],  c='g', marker='+', label='Correct',   alpha=8/10)\n",
    "ax.scatter(x=X_train[~is_correct][:,0], y=X_train[~is_correct][:,1], c='r', marker='x', label='Incorrect', alpha=8/10)\n",
    "ax.legend(loc='lower right')\n",
    "ax.set_title(\"ActiveLearner class predictions (Accuracy: {score:.3f})\".format(score=unqueried_score))\n",
    "plt.show()"
   ]
  },
  {
   "cell_type": "code",
   "execution_count": 15,
   "metadata": {},
   "outputs": [
    {
     "data": {
      "text/plain": [
       "(array([2], dtype=int64),\n",
       " array([[0.56609744, 0.53083305, 0.50861742, 0.51445671, 0.42300348,\n",
       "         0.63325839, 0.81220984, 0.74103911, 0.28855116, 0.44937379,\n",
       "         1.        , 0.16253467, 0.41156882, 0.60793748, 0.90222002,\n",
       "         0.47920354, 0.57447111, 0.93645573, 0.72398959, 1.        ,\n",
       "         0.        , 1.        , 0.        ]]))"
      ]
     },
     "execution_count": 15,
     "metadata": {},
     "output_type": "execute_result"
    }
   ],
   "source": [
    "learner.query(X_pool)"
   ]
  },
  {
   "cell_type": "markdown",
   "metadata": {},
   "source": [
    "## Pool based Sampling"
   ]
  },
  {
   "cell_type": "markdown",
   "metadata": {},
   "source": [
    "Initially the model is trained with 10 random samples. Now we are passing querries one by one. In other words we are tuning the\n",
    "classifier based on 100 instances (N_QUERIES) that the model hasn't seen before"
   ]
  },
  {
   "cell_type": "code",
   "execution_count": 16,
   "metadata": {},
   "outputs": [
    {
     "name": "stdout",
     "output_type": "stream",
     "text": [
      "Accuracy after query 1: 0.7321\n",
      "Accuracy after query 2: 0.7321\n",
      "Accuracy after query 3: 0.7351\n",
      "Accuracy after query 4: 0.7500\n",
      "Accuracy after query 5: 0.7530\n",
      "Accuracy after query 6: 0.7589\n",
      "Accuracy after query 7: 0.7679\n",
      "Accuracy after query 8: 0.7738\n",
      "Accuracy after query 9: 0.7381\n",
      "Accuracy after query 10: 0.7738\n",
      "Accuracy after query 11: 0.7768\n",
      "Accuracy after query 12: 0.7827\n",
      "Accuracy after query 13: 0.7887\n",
      "Accuracy after query 14: 0.7798\n",
      "Accuracy after query 15: 0.7887\n",
      "Accuracy after query 16: 0.7946\n",
      "Accuracy after query 17: 0.8065\n",
      "Accuracy after query 18: 0.8036\n",
      "Accuracy after query 19: 0.8125\n",
      "Accuracy after query 20: 0.8125\n",
      "Accuracy after query 21: 0.8125\n",
      "Accuracy after query 22: 0.8095\n",
      "Accuracy after query 23: 0.8095\n",
      "Accuracy after query 24: 0.8095\n",
      "Accuracy after query 25: 0.8214\n",
      "Accuracy after query 26: 0.8185\n",
      "Accuracy after query 27: 0.8244\n",
      "Accuracy after query 28: 0.8125\n",
      "Accuracy after query 29: 0.8185\n",
      "Accuracy after query 30: 0.8125\n",
      "Accuracy after query 31: 0.8214\n",
      "Accuracy after query 32: 0.8274\n",
      "Accuracy after query 33: 0.8393\n",
      "Accuracy after query 34: 0.8393\n",
      "Accuracy after query 35: 0.8333\n",
      "Accuracy after query 36: 0.8304\n",
      "Accuracy after query 37: 0.8304\n",
      "Accuracy after query 38: 0.8363\n",
      "Accuracy after query 39: 0.8423\n",
      "Accuracy after query 40: 0.8423\n",
      "Accuracy after query 41: 0.8512\n",
      "Accuracy after query 42: 0.8393\n",
      "Accuracy after query 43: 0.8333\n",
      "Accuracy after query 44: 0.8452\n",
      "Accuracy after query 45: 0.8423\n",
      "Accuracy after query 46: 0.8363\n",
      "Accuracy after query 47: 0.8423\n",
      "Accuracy after query 48: 0.8452\n",
      "Accuracy after query 49: 0.8512\n",
      "Accuracy after query 50: 0.8542\n",
      "Accuracy after query 51: 0.8512\n",
      "Accuracy after query 52: 0.8542\n",
      "Accuracy after query 53: 0.8542\n",
      "Accuracy after query 54: 0.8542\n",
      "Accuracy after query 55: 0.8571\n",
      "Accuracy after query 56: 0.8601\n",
      "Accuracy after query 57: 0.8542\n",
      "Accuracy after query 58: 0.8601\n",
      "Accuracy after query 59: 0.8631\n",
      "Accuracy after query 60: 0.8631\n",
      "Accuracy after query 61: 0.8631\n",
      "Accuracy after query 62: 0.8661\n",
      "Accuracy after query 63: 0.8690\n",
      "Accuracy after query 64: 0.8720\n",
      "Accuracy after query 65: 0.8720\n",
      "Accuracy after query 66: 0.8690\n",
      "Accuracy after query 67: 0.8720\n",
      "Accuracy after query 68: 0.8720\n",
      "Accuracy after query 69: 0.8720\n",
      "Accuracy after query 70: 0.8720\n",
      "Accuracy after query 71: 0.8750\n",
      "Accuracy after query 72: 0.8720\n",
      "Accuracy after query 73: 0.8750\n",
      "Accuracy after query 74: 0.8780\n",
      "Accuracy after query 75: 0.8810\n",
      "Accuracy after query 76: 0.8869\n",
      "Accuracy after query 77: 0.8869\n",
      "Accuracy after query 78: 0.8869\n",
      "Accuracy after query 79: 0.8869\n",
      "Accuracy after query 80: 0.8899\n",
      "Accuracy after query 81: 0.8899\n",
      "Accuracy after query 82: 0.8869\n",
      "Accuracy after query 83: 0.8899\n",
      "Accuracy after query 84: 0.8899\n",
      "Accuracy after query 85: 0.8929\n",
      "Accuracy after query 86: 0.8958\n",
      "Accuracy after query 87: 0.8958\n",
      "Accuracy after query 88: 0.8988\n",
      "Accuracy after query 89: 0.8988\n",
      "Accuracy after query 90: 0.8988\n",
      "Accuracy after query 91: 0.8988\n",
      "Accuracy after query 92: 0.9018\n",
      "Accuracy after query 93: 0.9018\n",
      "Accuracy after query 94: 0.9048\n",
      "Accuracy after query 95: 0.9048\n",
      "Accuracy after query 96: 0.9048\n",
      "Accuracy after query 97: 0.9048\n",
      "Accuracy after query 98: 0.9048\n",
      "Accuracy after query 99: 0.9048\n",
      "Accuracy after query 100: 0.9048\n"
     ]
    }
   ],
   "source": [
    "#N_QUERIES = len(X_train)-size\n",
    "N_QUERIES = 100\n",
    "performance_history = [unqueried_score]\n",
    "performance_history_test = [unqueried_score_test]\n",
    "# Allow our model to query our unlabeled dataset for the most\n",
    "# informative points according to our query strategy (uncertainty sampling).\n",
    "for index in range(N_QUERIES):\n",
    "  query_index, query_instance = learner.query(X_pool)\n",
    "\n",
    "  # Teach our ActiveLearner model the record it has requested.\n",
    "  X, y = X_pool[query_index].reshape(1, -1), y_pool[query_index].reshape(1, )\n",
    "  learner.teach(X=X, y=y)\n",
    "\n",
    "  # Remove the queried instance from the unlabeled pool.\n",
    "  X_pool, y_pool = np.delete(X_pool, query_index, axis=0), np.delete(y_pool, query_index)\n",
    "\n",
    "  # Calculate and report our model's accuracy on training data.\n",
    "  model_accuracy = learner.score(X_train, y_train)\n",
    "  print('Accuracy after query {n}: {acc:0.4f}'.format(n=index + 1, acc=model_accuracy))\n",
    "\n",
    "  # Calculate and report our model's accuracy on training data.\n",
    "  model_accuracy_test = learner.score(X_test, y_test)\n",
    "\n",
    "  # Save our model's performance for plotting.\n",
    "  performance_history.append(model_accuracy)\n",
    "  performance_history_test.append(model_accuracy_test)"
   ]
  },
  {
   "cell_type": "code",
   "execution_count": 17,
   "metadata": {},
   "outputs": [
    {
     "name": "stderr",
     "output_type": "stream",
     "text": [
      "The PostScript backend does not support transparency; partially transparent artists will be rendered opaque.\n",
      "The PostScript backend does not support transparency; partially transparent artists will be rendered opaque.\n"
     ]
    },
    {
     "data": {
      "image/png": "[encoded data removed]",
      "text/plain": [
       "<Figure size 780x390 with 1 Axes>"
      ]
     },
     "metadata": {
      "needs_background": "light"
     },
     "output_type": "display_data"
    }
   ],
   "source": [
    "# Plot our performance over time.\n",
    "fig, ax = plt.subplots(figsize=(6, 3), dpi=130)\n",
    "plt.rcParams[\"font.family\"] = \"Times New Roman\"\n",
    "plt.rcParams.update({'font.size': 12})\n",
    "\n",
    "\n",
    "ax.plot(performance_history)\n",
    "ax.scatter(range(len(performance_history)), performance_history, s=13)\n",
    "\n",
    "ax.plot(performance_history_test)\n",
    "\n",
    "\n",
    "\n",
    "ax.xaxis.set_major_locator(mpl.ticker.MaxNLocator(nbins=5, integer=True))\n",
    "ax.yaxis.set_major_locator(mpl.ticker.MaxNLocator(nbins=10))\n",
    "ax.yaxis.set_major_formatter(mpl.ticker.PercentFormatter(xmax=1))\n",
    "\n",
    "ax.set_ylim(bottom=0, top=1)\n",
    "ax.grid(True)\n",
    "\n",
    "ax.set_title('Incremental classification accuracy')\n",
    "ax.set_xlabel('Query iteration')\n",
    "ax.set_ylabel('Classification Accuracy')\n",
    "\n",
    "ax.legend(('Training data', 'Test data'),loc='lower right')\n",
    "plt.savefig('bridge_active_learning_pool_based_sampling.eps',format='eps', dpi=1000)\n",
    "plt.show()"
   ]
  },
  {
   "cell_type": "code",
   "execution_count": 18,
   "metadata": {},
   "outputs": [
    {
     "data": {
      "image/png": "[encoded data removed]",
      "text/plain": [
       "<Figure size 650x650 with 1 Axes>"
      ]
     },
     "metadata": {
      "needs_background": "light"
     },
     "output_type": "display_data"
    }
   ],
   "source": [
    "# Isolate the data we'll need for plotting.\n",
    "predictions = learner.predict(X_train)\n",
    "is_correct = (predictions == y_train)\n",
    "\n",
    "# Plot our updated classification results once we've trained our learner.\n",
    "fig, ax = plt.subplots(figsize=(5, 5), dpi=130)\n",
    "\n",
    "ax.scatter(x=X_train[is_correct][:,0],  y=X_train[is_correct][:,1],  c='g', marker='+', label='Correct',   alpha=8/10)\n",
    "ax.scatter(x=X_train[~is_correct][:,0], y=X_train[~is_correct][:,1], c='r', marker='x', label='Incorrect', alpha=8/10)\n",
    "\n",
    "ax.set_title('Classification accuracy after {n} queries: {final_acc:.3f}'.format(n=N_QUERIES, final_acc=performance_history[-1]))\n",
    "ax.legend(loc='lower right')\n",
    "\n",
    "plt.show()"
   ]
  },
  {
   "cell_type": "code",
   "execution_count": 19,
   "metadata": {},
   "outputs": [
    {
     "name": "stdout",
     "output_type": "stream",
     "text": [
      "[[107   1   6]\n",
      " [  4  34  21]\n",
      " [  0   0 163]]\n"
     ]
    }
   ],
   "source": [
    "y_pred_train = learner.predict(X_train)\n",
    "\n",
    "from sklearn.metrics import confusion_matrix\n",
    "confusion_matrix = confusion_matrix(y_train, y_pred_train)\n",
    "print(confusion_matrix)"
   ]
  },
  {
   "cell_type": "code",
   "execution_count": 20,
   "metadata": {},
   "outputs": [
    {
     "name": "stdout",
     "output_type": "stream",
     "text": [
      "Accuracy of RF classifier on test set: 0.80\n"
     ]
    }
   ],
   "source": [
    "# Check the performance on test set\n",
    "\n",
    "print('Accuracy of RF classifier on test set: {:.2f}'\n",
    "     .format(learner.score(X_test, y_test)))"
   ]
  },
  {
   "cell_type": "code",
   "execution_count": 21,
   "metadata": {},
   "outputs": [
    {
     "name": "stdout",
     "output_type": "stream",
     "text": [
      "[[43  6  5]\n",
      " [ 7  5 10]\n",
      " [ 0  1 67]]\n"
     ]
    }
   ],
   "source": [
    "y_pred_test = learner.predict(X_test)\n",
    "\n",
    "from sklearn.metrics import confusion_matrix\n",
    "confusion_matrix_test = confusion_matrix(y_test, y_pred_test)\n",
    "print(confusion_matrix_test)"
   ]
  },
  {
   "cell_type": "markdown",
   "metadata": {},
   "source": [
    "## Ranked batch mode sampling"
   ]
  },
  {
   "cell_type": "code",
   "execution_count": 22,
   "metadata": {},
   "outputs": [],
   "source": [
    "from functools import partial\n",
    "from modAL.batch import uncertainty_batch_sampling\n",
    "from modAL.models import ActiveLearner\n",
    "\n",
    "# Pre-set our batch sampling to retrieve 3 samples at a time.\n",
    "BATCH_SIZE = 3\n",
    "preset_batch = partial(uncertainty_batch_sampling, n_instances=BATCH_SIZE)\n",
    "\n",
    "# Specify the core estimator along with it's active learning model.\n",
    "XGB = XGBClassifier()\n",
    "learner = ActiveLearner(estimator=XGB, X_training=X_train_new, y_training=y_train_new, query_strategy=preset_batch)\n",
    "\n",
    "#learner = ActiveLearner(estimator=XGB, X_training=X_train_new, y_training=y_train_new)\n",
    "unqueried_score = learner.score(X_train, y_train)\n",
    "unqueried_score_test = learner.score(X_test, y_test)\n"
   ]
  },
  {
   "cell_type": "code",
   "execution_count": 23,
   "metadata": {},
   "outputs": [
    {
     "name": "stdout",
     "output_type": "stream",
     "text": [
      "Accuracy after query 1: 0.7530\n",
      "Accuracy after query 2: 0.7560\n",
      "Accuracy after query 3: 0.7560\n",
      "Accuracy after query 4: 0.7649\n",
      "Accuracy after query 5: 0.7708\n",
      "Accuracy after query 6: 0.7619\n",
      "Accuracy after query 7: 0.7738\n",
      "Accuracy after query 8: 0.7768\n",
      "Accuracy after query 9: 0.7798\n",
      "Accuracy after query 10: 0.7917\n",
      "Accuracy after query 11: 0.7887\n",
      "Accuracy after query 12: 0.7708\n",
      "Accuracy after query 13: 0.7679\n",
      "Accuracy after query 14: 0.7976\n",
      "Accuracy after query 15: 0.8065\n",
      "Accuracy after query 16: 0.8065\n",
      "Accuracy after query 17: 0.8125\n",
      "Accuracy after query 18: 0.8185\n",
      "Accuracy after query 19: 0.8214\n",
      "Accuracy after query 20: 0.8214\n",
      "Accuracy after query 21: 0.8274\n",
      "Accuracy after query 22: 0.8304\n",
      "Accuracy after query 23: 0.8333\n",
      "Accuracy after query 24: 0.8304\n",
      "Accuracy after query 25: 0.8333\n",
      "Accuracy after query 26: 0.8304\n",
      "Accuracy after query 27: 0.8423\n",
      "Accuracy after query 28: 0.8601\n",
      "Accuracy after query 29: 0.8512\n",
      "Accuracy after query 30: 0.8571\n",
      "Accuracy after query 31: 0.8542\n",
      "Accuracy after query 32: 0.8631\n",
      "Accuracy after query 33: 0.8571\n"
     ]
    }
   ],
   "source": [
    "N_RAW_SAMPLES = 100\n",
    "N_QUERIES = N_RAW_SAMPLES // BATCH_SIZE\n",
    "#N_QUERIES =16\n",
    "\n",
    "performance_history = [unqueried_score]\n",
    "performance_history_test = [unqueried_score_test]\n",
    "\n",
    "for index in range(N_QUERIES):\n",
    "    query_index, query_instance = learner.query(X_pool)\n",
    "\n",
    "    # Teach our ActiveLearner model the record it has requested.\n",
    "    X, y = X_pool[query_index], y_pool[query_index]\n",
    "    learner.teach(X=X, y=y)\n",
    "\n",
    "    # Remove the queried instance from the unlabeled pool.\n",
    "    X_pool = np.delete(X_pool, query_index, axis=0)\n",
    "    y_pool = np.delete(y_pool, query_index)\n",
    "\n",
    "    # Calculate and report our model's accuracy.\n",
    "    model_accuracy = learner.score(X_train, y_train)\n",
    "    print('Accuracy after query {n}: {acc:0.4f}'.format(n=index + 1, acc=model_accuracy))\n",
    "    \n",
    "    # Calculate and report our model's accuracy on training data.\n",
    "    model_accuracy_test = learner.score(X_test, y_test)\n",
    "\n",
    "    # Save our model's performance for plotting.\n",
    "    performance_history.append(model_accuracy)\n",
    "    performance_history_test.append(model_accuracy_test)\n",
    "    \n",
    "\n",
    "    "
   ]
  },
  {
   "cell_type": "code",
   "execution_count": 24,
   "metadata": {},
   "outputs": [
    {
     "name": "stderr",
     "output_type": "stream",
     "text": [
      "The PostScript backend does not support transparency; partially transparent artists will be rendered opaque.\n",
      "The PostScript backend does not support transparency; partially transparent artists will be rendered opaque.\n",
      "The PostScript backend does not support transparency; partially transparent artists will be rendered opaque.\n",
      "The PostScript backend does not support transparency; partially transparent artists will be rendered opaque.\n",
      "The PostScript backend does not support transparency; partially transparent artists will be rendered opaque.\n",
      "The PostScript backend does not support transparency; partially transparent artists will be rendered opaque.\n",
      "The PostScript backend does not support transparency; partially transparent artists will be rendered opaque.\n",
      "The PostScript backend does not support transparency; partially transparent artists will be rendered opaque.\n",
      "The PostScript backend does not support transparency; partially transparent artists will be rendered opaque.\n",
      "The PostScript backend does not support transparency; partially transparent artists will be rendered opaque.\n",
      "The PostScript backend does not support transparency; partially transparent artists will be rendered opaque.\n",
      "The PostScript backend does not support transparency; partially transparent artists will be rendered opaque.\n",
      "The PostScript backend does not support transparency; partially transparent artists will be rendered opaque.\n"
     ]
    },
    {
     "data": {
      "image/png": "[encoded data removed]",
      "text/plain": [
       "<Figure size 1105x780 with 1 Axes>"
      ]
     },
     "metadata": {
      "needs_background": "light"
     },
     "output_type": "display_data"
    }
   ],
   "source": [
    "# Plot our performance over iterations\n",
    "fig, ax = plt.subplots(figsize=(8.5, 6), dpi=130)\n",
    "plt.rcParams[\"font.family\"] = \"Times New Roman\"\n",
    "plt.rcParams.update({'font.size': 12})\n",
    "\n",
    "ax.plot(performance_history)\n",
    "ax.scatter(range(len(performance_history)), performance_history, s=13)\n",
    "\n",
    "ax.plot(performance_history_test)\n",
    "\n",
    "\n",
    "ax.xaxis.set_major_locator(mpl.ticker.MaxNLocator(nbins=N_QUERIES + BATCH_SIZE, integer=True))\n",
    "ax.xaxis.grid(True)\n",
    "\n",
    "ax.yaxis.set_major_locator(mpl.ticker.MaxNLocator(nbins=10))\n",
    "ax.yaxis.set_major_formatter(mpl.ticker.PercentFormatter(xmax=1))\n",
    "ax.set_ylim(bottom=0, top=1)\n",
    "ax.yaxis.grid(True, linestyle='--', alpha=1/2)\n",
    "\n",
    "ax.set_title('Incremental classification accuracy')\n",
    "ax.set_xlabel('Query iteration')\n",
    "ax.set_ylabel('Classification Accuracy')\n",
    "ax.legend(('Training data', 'Test data'),loc='lower right')\n",
    "plt.savefig('bridge_active_learning_ranked_sampling.eps',format='eps', dpi=1000)\n",
    "\n",
    "plt.show()"
   ]
  },
  {
   "cell_type": "code",
   "execution_count": 25,
   "metadata": {},
   "outputs": [
    {
     "name": "stdout",
     "output_type": "stream",
     "text": [
      "[[102   6   6]\n",
      " [ 22  28   9]\n",
      " [  2   3 158]]\n"
     ]
    }
   ],
   "source": [
    "y_pred_train = learner.predict(X_train)\n",
    "\n",
    "from sklearn.metrics import confusion_matrix\n",
    "confusion_matrix = confusion_matrix(y_train, y_pred_train)\n",
    "print(confusion_matrix)"
   ]
  },
  {
   "cell_type": "code",
   "execution_count": 26,
   "metadata": {},
   "outputs": [
    {
     "name": "stdout",
     "output_type": "stream",
     "text": [
      "Accuracy of RF classifier on test set: 0.79\n"
     ]
    }
   ],
   "source": [
    "# Check the performance on test set\n",
    "\n",
    "print('Accuracy of RF classifier on test set: {:.2f}'\n",
    "     .format(learner.score(X_test, y_test)))"
   ]
  },
  {
   "cell_type": "code",
   "execution_count": 27,
   "metadata": {},
   "outputs": [
    {
     "name": "stdout",
     "output_type": "stream",
     "text": [
      "[[44  4  6]\n",
      " [ 8  5  9]\n",
      " [ 1  2 65]]\n"
     ]
    }
   ],
   "source": [
    "y_pred_test = learner.predict(X_test)\n",
    "\n",
    "from sklearn.metrics import confusion_matrix\n",
    "confusion_matrix_test = confusion_matrix(y_test, y_pred_test)\n",
    "print(confusion_matrix_test)"
   ]
  },
  {
   "cell_type": "markdown",
   "metadata": {},
   "source": [
    "## For entire data case (upper bound)"
   ]
  },
  {
   "cell_type": "code",
   "execution_count": 28,
   "metadata": {},
   "outputs": [
    {
     "name": "stdout",
     "output_type": "stream",
     "text": [
      "Accuracy of XGB classifier on training set: 1.00\n",
      "Accuracy of XGB classifier on test set: 0.80\n"
     ]
    }
   ],
   "source": [
    "from xgboost import XGBClassifier\n",
    "from sklearn.datasets import make_classification\n",
    "\n",
    "XGB = XGBClassifier()\n",
    "XGB.fit(X_train, y_train)\n",
    "print('Accuracy of XGB classifier on training set: {:.2f}'\n",
    "     .format(XGB.score(X_train, y_train)))\n",
    "print('Accuracy of XGB classifier on test set: {:.2f}'\n",
    "     .format(XGB.score(X_test, y_test)))"
   ]
  },
  {
   "cell_type": "code",
   "execution_count": 29,
   "metadata": {},
   "outputs": [
    {
     "name": "stdout",
     "output_type": "stream",
     "text": [
      "[[114   0   0]\n",
      " [  0  58   1]\n",
      " [  0   0 163]]\n"
     ]
    }
   ],
   "source": [
    "# confusion matrix of training set\n",
    "y_pred_train = XGB.predict(X_train)\n",
    "from sklearn.metrics import confusion_matrix\n",
    "confusion_matrix = confusion_matrix(y_train, y_pred_train)\n",
    "print(confusion_matrix)"
   ]
  },
  {
   "cell_type": "code",
   "execution_count": 30,
   "metadata": {},
   "outputs": [
    {
     "name": "stdout",
     "output_type": "stream",
     "text": [
      "[[42  8  4]\n",
      " [ 4  8 10]\n",
      " [ 1  2 65]]\n"
     ]
    }
   ],
   "source": [
    "# confusion matrix of test set\n",
    "y_pred = XGB.predict(X_test)\n",
    "from sklearn.metrics import confusion_matrix\n",
    "confusion_matrix = confusion_matrix(y_test, y_pred)\n",
    "print(confusion_matrix)"
   ]
  },
  {
   "cell_type": "code",
   "execution_count": null,
   "metadata": {},
   "outputs": [],
   "source": []
  }
 ],
 "metadata": {
  "kernelspec": {
   "display_name": "Python 3",
   "language": "python",
   "name": "python3"
  },
  "language_info": {
   "codemirror_mode": {
    "name": "ipython",
    "version": 3
   },
   "file_extension": ".py",
   "mimetype": "text/x-python",
   "name": "python",
   "nbconvert_exporter": "python",
   "pygments_lexer": "ipython3",
   "version": "3.7.3"
  }
 },
 "nbformat": 4,
 "nbformat_minor": 2
}
